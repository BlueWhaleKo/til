{
 "cells": [
  {
   "cell_type": "markdown",
   "metadata": {},
   "source": [
    "출처 : https://datascienceschool.net/view-notebook/5e2ee247518f47a6ba2d0894b33c73a3/"
   ]
  },
  {
   "cell_type": "markdown",
   "metadata": {},
   "source": [
    "# **베르누이 분포**"
   ]
  },
  {
   "cell_type": "markdown",
   "metadata": {},
   "source": [
    "## **베르누이 시행**\n",
    "\n",
    "결과가 두 가지 중 하나로만 나오는 실험이나 시도를 **베르누이 시도(Bernoulli trial)라고 한다**. 예를 들어 동전을 한 번 던져 앞면(H:Head)이 나오거나 뒷면(T:Tail)이 나오게 하는 것은 베르누이 시도의 일종이다."
   ]
  },
  {
   "cell_type": "markdown",
   "metadata": {},
   "source": [
    "---"
   ]
  },
  {
   "cell_type": "markdown",
   "metadata": {},
   "source": [
    "## **베르누이 확률변수**"
   ]
  },
  {
   "cell_type": "markdown",
   "metadata": {},
   "source": [
    "베르누이 확률변수의 결과를 실수 0 또는 1로 바꾼 것을 **베르누이 확률변수(Bernoulli random variable)**라고 한다. 베르누이 확률변수는 두 가지 값 중 하나만 가질 수 있으므로 이산확률변수(discrete random variable)이다. 베르누이 확률변수의 표본 값은 보통 정수 1과 0으로 표현하지만 때로는 정수 1과 -1로 표현하는 경우도 있다.\n",
    "\n",
    "베르누이 확률변수의 확률질량함수는 다음과 같다.\n",
    "\n"
   ]
  },
  {
   "cell_type": "markdown",
   "metadata": {},
   "source": [
    "### $ \\text{Bern}(x;\\mu) = \n",
    "\\begin{cases} \n",
    "\\mu   & \\text{if }x=1, \\\\\n",
    "1-\\mu & \\text{if }x=0\n",
    "\\end{cases} $"
   ]
  },
  {
   "cell_type": "markdown",
   "metadata": {},
   "source": [
    "베르누이 확률변수는  **1이 나올 확률을 의미하는 μ 라는 모수(parameter)**를 가진다. 변수와 모수는 세미콜론(;, semi-colone)기호로 분리하였다. 0이 나올 확률은  1−μ 이다.\n",
    "\n",
    "위 식을 하나의 수식으로 표현하면 다음처럼 쓸 수 있다."
   ]
  },
  {
   "cell_type": "markdown",
   "metadata": {},
   "source": [
    "### $\\text{Bern}(x;\\mu) = \\mu^x(1-\\mu)^{(1-x)}$"
   ]
  },
  {
   "cell_type": "markdown",
   "metadata": {},
   "source": [
    "만약 베르누이 확률변수가 1과 0이 아니라 1과 -1이라는 값을 가진다면 다음과 같은 수식으로 써야 한다.\n",
    "\n",
    "### $ \\text{Bern}(x; \\mu) = \\mu^{(1+x)/2} (1-\\mu)^{(1-x)/2} $"
   ]
  },
  {
   "cell_type": "markdown",
   "metadata": {},
   "source": [
    "<br>\n"
   ]
  },
  {
   "cell_type": "markdown",
   "metadata": {},
   "source": [
    "만약 어떤 확률변수  X 가 베르누이 분포에 의해 발생된다면 **\"확률변수  X 가 베르누이 분포를 따른다\"**라고 말하고 다음과 같이 수식으로 쓴다.\n",
    "\n",
    "### $X \\sim \\text{Bern}(x;\\mu)$"
   ]
  },
  {
   "cell_type": "markdown",
   "metadata": {},
   "source": [
    "---"
   ]
  },
  {
   "cell_type": "markdown",
   "metadata": {},
   "source": [
    "## **베르누이 분포의 모멘트**\n"
   ]
  },
  {
   "cell_type": "markdown",
   "metadata": {},
   "source": [
    "베르누이 분포의 모멘트는 다음과 같다.\n",
    "\n",
    "### **기댓값**\n",
    "#### $\\text{E}[X]  = \\mu$\n",
    "\n",
    "(증명)\n",
    "\n",
    "#### $ \\text{E}[X] = \\sum x_i P(x_i) = 1 \\cdot \\mu + 0 \\cdot (1 - \\mu) =  \\mu $"
   ]
  },
  {
   "cell_type": "markdown",
   "metadata": {},
   "source": [
    " "
   ]
  },
  {
   "cell_type": "markdown",
   "metadata": {},
   "source": [
    "### **분산**\n",
    "\n",
    "#### $\\text{Var}[X] = \\mu(1-\\mu)$\n",
    "\n",
    "(증명)\n",
    "\n",
    "#### $\\text{Var}[X] = \\sum (x_i - \\mu)^2 P(x_i) = (1 - \\mu)^2 \\cdot \\mu + (0 - \\mu)^2 \\cdot (1 - \\mu) = \\mu(1-\\mu)$"
   ]
  },
  {
   "cell_type": "markdown",
   "metadata": {},
   "source": [
    "---"
   ]
  },
  {
   "cell_type": "markdown",
   "metadata": {},
   "source": [
    "## **베르누이 분포의 모수추정**"
   ]
  },
  {
   "cell_type": "markdown",
   "metadata": {},
   "source": [
    "데이터에서 모수의 값을 찾아내는 것을 모수추정(parameter estimation)이라고 한다. 베르누이 분포 모수  $\\mu$ 를 추정한 값  $\\hat{\\mu}$ 은 다음처럼 계산한다.\n",
    "\n",
    "### $\\hat{\\mu} = \\dfrac{\\sum_{i=1}^N x_i}{N}= \\dfrac{N_1}{N}$\n",
    "\n",
    "이 식에서  N 은 전체 데이터의 수,  N1 은 1이 나온 횟수이다."
   ]
  },
  {
   "cell_type": "markdown",
   "metadata": {},
   "source": [
    "---"
   ]
  },
  {
   "cell_type": "markdown",
   "metadata": {},
   "source": [
    "## **베르누이 분포의 활용**\n",
    "\n",
    "베르누이 분포는 다음과 같은 경우에 사용된다.\n",
    " 1. 입력 데이터가 0 또는 1 혹은 참 또는 거짓, 두 개의 값으로 구분되는 카테고리 값인 경우, 두 종류의 값이 나타나는 비율을 표현하기 위해 사용된다. (빈도주의적 관점)\n",
    " 2. 분류예측 문제의 출력 데이터가 두 개의 값으로 구분되는 카테고리 값인 경우, 두 값 중 어느 값이 가능성이 높은지를 표현하기 위해 사용된다. (베이지안 관점)\n",
    " \n",
    "\n",
    "예를 들어 스팸 메일(spam mail)과 정상 메일을 구분해야 하는 스팸 메일 필터(spam mail filter)를 만들어야 한다고 가정하자. 스팸 메일 필터를 만들기 위해 특정한 메일 계정으로 들어오는 메일을 모두 분석하였다. 만약 메일이 모두 10통이고 이 중 6통이 스팸 메일이라면 이 메일 계정으로 들어온 메일이 스팸 메일일 가능성은 60%이다. 이러한 상황은  μ=0.6 인 베르누이 분포로 나타낼 수 있다.\n",
    "\n",
    "#### $ P_Y = \\text{Bern}(y; \\mu = 0.6) $\n",
    "\n",
    "확률변수  $Y$ 는 메일이 스팸 메일인지 아닌지를 나타내며  $Y=1$ 이면 스팸 메일이다."
   ]
  },
  {
   "cell_type": "markdown",
   "metadata": {},
   "source": [
    "또한 스팸 메일은 특정한 단어(키워드)를 가지고 있을 확률이 높다. 스팸 메일을 구분하기 위한 키워드가 여러 개라면 다음과 같이 BOW(Bag of Words) 인코딩된 벡터로 나타낼 수 있다. 이 예에서는 4개의 키워드를 사용하였다. 만약 어떤 메일이 첫번째와 세번째 키워드를 포함하고 있으며 두번째와 네번째 키워드는 포함하지 않으면 다음과 같은 특징 벡터로 표시할 수 있다.\n",
    "\n",
    "\n",
    "$x = \\begin{bmatrix} 1 \\\\ 0 \\\\ 1 \\\\ 0 \\end{bmatrix}$\n",
    "\n",
    "여러개의 메일이 있으면 다음처럼 특징 행렬로 표시한다. 특징 행렬에서는 행 벡터가 메일을, 열 벡터가 키워드를 나타낸다.\n",
    "\n",
    "$\n",
    "X =\n",
    "\\begin{bmatrix} \n",
    "1 & 0 & 1 & 0 \\\\\n",
    "1 & 1 & 1 & 0 \\\\\n",
    "1 & 1 & 0 & 1 \\\\\n",
    "0 & 0 & 1 & 1 \\\\\n",
    "1 & 1 & 0 & 0 \\\\\n",
    "1 & 1 & 0 & 1 \\\\\n",
    "\\end{bmatrix}\n",
    "$\n",
    "\n",
    "이때, 스팸 메일의 특성은 4개의 베르누이 확률분포의 튜플 $ (X_1, X_2, X_3, X_4) $ 로 나타낼 수 있다.\n",
    "\n",
    "$ X_1 \\sim \\text{Bern}(x_1; \\mu_1) : $ 스팸 메일이 첫번째 키워드를 포함하고 있을 확률\n",
    "\n",
    "$ X_2 \\sim \\text{Bern}(x_2; \\mu_2) : $ 스팸 메일이 첫번째 키워드를 포함하고 있을 확률\n",
    "\n",
    "$ X_3 \\sim \\text{Bern}(x_3; \\mu_3) : $ 스팸 메일이 첫번째 키워드를 포함하고 있을 확률\n",
    "\n",
    "$ X_4 \\sim \\text{Bern}(x_4; \\mu_4) : $ 스팸 메일이 첫번째 키워드를 포함하고 있을 확률\n",
    "\n",
    "특징 행렬의 각 열로부터 각 베르누이 확률분포의 모수의 추정값을 구하면 다음과 같다.\n",
    "\n",
    "$\\hat\\mu_1 = \\dfrac{5}{6},\\;\\; \\hat\\mu_2 = \\dfrac{4}{6},\\;\\; \\hat\\mu_3 = \\dfrac{3}{6},\\;\\; \\hat\\mu_4 = \\dfrac{3}{6}$"
   ]
  }
 ],
 "metadata": {
  "kernelspec": {
   "display_name": "Python 3",
   "language": "python",
   "name": "python3"
  },
  "language_info": {
   "codemirror_mode": {
    "name": "ipython",
    "version": 3
   },
   "file_extension": ".py",
   "mimetype": "text/x-python",
   "name": "python",
   "nbconvert_exporter": "python",
   "pygments_lexer": "ipython3",
   "version": "3.6.4"
  }
 },
 "nbformat": 4,
 "nbformat_minor": 2
}
