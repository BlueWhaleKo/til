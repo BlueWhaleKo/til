{
 "cells": [
  {
   "cell_type": "markdown",
   "metadata": {},
   "source": [
    "출처: https://datascienceschool.net/view-notebook/dd6a7633d69f401bb00409b9ae8806e8/ -데이터사이언스 스쿨"
   ]
  },
  {
   "cell_type": "markdown",
   "metadata": {},
   "source": [
    "# **기댓값**"
   ]
  },
  {
   "cell_type": "markdown",
   "metadata": {},
   "source": [
    " "
   ]
  },
  {
   "cell_type": "markdown",
   "metadata": {},
   "source": [
    "## **확률분포의 기댓값**\n"
   ]
  },
  {
   "cell_type": "markdown",
   "metadata": {},
   "source": [
    "확률변수의 확률밀도함수를 알고 있다면 확률변수의 표본평균의 이론적인 값을 구할 수 있다. 이러한 이론적 평균을 확률변수의 기댓값(expectation)이라고 한다. 경우에 따라 단순히 평균(mean)이라고 말하기도 한다.\n",
    "\n",
    "확률변수의 기댓값을 구하는 연산자(operator)는 영어 Expectation의 첫글자를 사용하여  $E[⋅]$ 로 표기한다. 기댓값은 그리스 문자  $μX$  로 표기한다. 확률변수를 혼동할 염려가 없으면 확률변수 이름은 생략하고 그냥  $μ$ 라고 써도 된다.\n",
    "\n"
   ]
  },
  {
   "cell_type": "markdown",
   "metadata": {},
   "source": [
    "---"
   ]
  },
  {
   "cell_type": "markdown",
   "metadata": {},
   "source": [
    "#### **이산확률변수의 기댓값은 표본공간의 원소  $x_i$ 의 가중평균이다. 이때 가중치는  $x_i$ 가 나올 수 있는 확률 즉 확률질량함수  $P(x_i)$ 이다.**\n",
    "\n",
    "### $ \\mu_X = \\operatorname{E}[X] = \\sum_{x_i \\in \\Omega} x_iP(x_i) $\n",
    "\n",
    "\n",
    "<br>\n",
    "\n",
    "참고로 표본평균을 구하는 공식은 다음과 같았다. 두 식에서  xi 의 의미가 다르다는 점에 유의하라.\n",
    "\n",
    "### $ m = \\bar x = \\dfrac{1}{N} \\sum_{i=1}^N x_i $"
   ]
  },
  {
   "cell_type": "markdown",
   "metadata": {},
   "source": [
    "---"
   ]
  },
  {
   "cell_type": "markdown",
   "metadata": {},
   "source": [
    " "
   ]
  },
  {
   "cell_type": "markdown",
   "metadata": {},
   "source": [
    "#### **연속확률변수의 기댓값은 확률밀도함수  p(x) 를 가중치로  x  를 적분한 값이다.**\n",
    "\n",
    "### $\\mu_X = \\operatorname{E}[X] = \\int_{-\\infty}^{\\infty} x p(x) dx$\n",
    "\n"
   ]
  },
  {
   "cell_type": "markdown",
   "metadata": {},
   "source": [
    "<img width = '700' src = https://datascienceschool.net/upfiles/5faa8355cc1847d19cf03aca65fe4b79.png/>"
   ]
  },
  {
   "cell_type": "markdown",
   "metadata": {},
   "source": [
    "---"
   ]
  },
  {
   "cell_type": "markdown",
   "metadata": {},
   "source": [
    "## **확률밀도함수의 모양과 기댓값**\n",
    "\n",
    "**기댓값**은 여러가지 가능한  x 의 값들을 확률질량(확률밀도) 값에 따라 가중합을 한 것이므로 가장 확률(확률밀도)가 높은  x 값 근처의 값이 된다. \n",
    "\n",
    "**즉, 확률(확률밀도)가 모여 있는 곳의 위치를 나타낸다.**"
   ]
  },
  {
   "cell_type": "markdown",
   "metadata": {},
   "source": [
    "---"
   ]
  },
  {
   "cell_type": "markdown",
   "metadata": {},
   "source": [
    "<br>\n"
   ]
  },
  {
   "cell_type": "markdown",
   "metadata": {},
   "source": [
    "\n",
    "## **통계량**\n",
    "확률변수  X 로부터 여러개의 표본  $\\{x_1,x_2,…,x_N\\}$을 얻었다고 하자. \n",
    "\n",
    "**이 표본 데이터 집합을 정해진 공식에 넣어서 하나의 숫자를 구한 것을 통계량(statistics)이라고 한다.**\n",
    "\n",
    "예를 들어 표본의 합, 표본평균, 표본중앙값, 표본분산 등은 모두 통계량이다.\n",
    "\n",
    "<img width = '700' src = 'https://datascienceschool.net/upfiles/27ae3dd69e0e4ba1b2844a7659ad601c.png'/> \n"
   ]
  },
  {
   "cell_type": "markdown",
   "metadata": {},
   "source": [
    "---"
   ]
  },
  {
   "cell_type": "markdown",
   "metadata": {},
   "source": [
    "## **확률변수의 변환**\n",
    "\n",
    "통계량도 예측할 수 없는 확률적 데이터이므로 어떤 확률변수에서 나온 표본이라고 할 수 있다. 이 통계량 확률변수는 원본 데이터가 나온 확률변수와는 다른 확률변수지만 두 확률변수는 서로 독립적이 아니며 밀접한 관계를 가지고 있다. 표본이 하나인 경우도 마찬가지이다. \n",
    "\n",
    "예를 들어 확률변수  $Y=2X$ 는 확률변수  $X$ 에서 나온 값을 2배한 값이 나오도록 하는 새로운 확률변수를 뜻한다. \n",
    "\n",
    "<br>\n",
    "\n",
    "이렇게 기존의 확률변수를 연산하여 새로운 확률변수를 만드는 것을 확률변수의 변환(transform)이라고 한다. 확률변수를 변환할 때는, 함수  f 를 사용하면, 다음처럼 표기한다.\n",
    "\n",
    "$Y=f(X)$\n",
    "\n",
    "<br>\n",
    "\n",
    "확률 변수의 변환은 여러개의 확률변수가 있을 때도 성립한다. 예를 들어 두 확률변수  $X$ 와  $Y$ 가 있다고 가정하였을 때, \n",
    "\n",
    "새로운 확률변수  $Z=X+Y$ 는 확률변수 $ X $에서 나온 값과 확률변수  $Y$ 에서 나온 값을 더한 값이 나오도록 하는 확률변수를 뜻한다.\n",
    "\n",
    "<img width = '700' src = 'https://datascienceschool.net/upfiles/163b381a40e44a50b372428bc02d0cfc.png'/>"
   ]
  },
  {
   "cell_type": "markdown",
   "metadata": {},
   "source": [
    "---"
   ]
  },
  {
   "cell_type": "markdown",
   "metadata": {},
   "source": [
    "## **기댓값의 성질**\n",
    "\n",
    "기댓값은 다음과 같은 성질을 가진다는 것을 수학적으로 증명할 수 있다. 변환된 확률변수의 기댓값을 계산할 때는 기댓값의 성질을 이용한다.\n",
    "\n",
    "확률변수가 아닌 **상수  c** 에 대해\n",
    "\n",
    "#### $$E[c]=c$$\n",
    " \n",
    "\n",
    "**선형성**\n",
    "\n",
    "#### $$\n",
    "\\begin{align}\n",
    "  \\operatorname{E}[cX]    &= c \\operatorname{E}[X] \\\\\n",
    "  \\operatorname{E}[X + Y] &=   \\operatorname{E}[X] + \\operatorname{E}[Y] \\\\\n",
    "  \\operatorname{E}[c_1X + c_2Y] &=   c_1\\operatorname{E}[X] + c_2\\operatorname{E}[Y] \n",
    "\\end{align}\n",
    "$$"
   ]
  },
  {
   "cell_type": "markdown",
   "metadata": {},
   "source": [
    "---"
   ]
  },
  {
   "cell_type": "markdown",
   "metadata": {},
   "source": [
    "## **표본평균의 확률분포**\n",
    "\n",
    "확률변수로부터  N 개의 표본을 만들어 이 표본집합의 표본평균을 구하면 이렇게 구한 표본평균 값도 확률변수이다. \n",
    "\n",
    "표본평균의 확률변수는 원래의 확률변수 이름에 bar를 추가하여  $\\bar{X}$ 와 같이 표기한다. 예를 들어 확률변수  X 에서 나온 표본으로 만들어진 표본평균의 확률변수는  $\\bar{X}$ 로 표기한다.\n",
    "\n",
    "<img width = '1000' src = 'https://datascienceschool.net/upfiles/f3f08cc5af084475bafa7ae2a1c35b5e.png'/>"
   ]
  },
  {
   "cell_type": "markdown",
   "metadata": {},
   "source": [
    "---"
   ]
  },
  {
   "cell_type": "markdown",
   "metadata": {},
   "source": [
    "## **기댓값과 표본평균의 관계**\n",
    "\n",
    "표본평균도 확률변수이므로 기댓값이 존재한다. 표본평균의 기댓값은 원래의 확률변수의 기댓값과 같다는 것을 다음처럼 증명할 수 있다.\n",
    "\n",
    "#### $ \\operatorname{E}[ \\bar{X} ] = \\operatorname{E}[X] $\n",
    "\n",
    "(증명)\n",
    "\n",
    "#### $\n",
    "\\begin{eqnarray}\n",
    "\\operatorname{E}[\\bar{X}] \n",
    "&=& \\operatorname{E}\\left[\\dfrac{1}{N}\\sum_{i=1}^{N}X_i \\right]  \\\\\n",
    "&=& \\dfrac{1}{N}\\sum_{i=1}^{N}\\operatorname{E}[X_i] \\;\\; (\\text{선형성}) \\\\\n",
    "&=& \\dfrac{1}{N}\\sum_{i=1}^{N}\\operatorname{E}[X]  \\;\\; (\\text{$X_i$는 $X$의 복사본이므로 기댓값이 같다.})\\\\\n",
    "&=& \\dfrac{1}{N} N \\operatorname{E}[X] \\;\\; (\\text{동일한 값의 합})\\\\ \n",
    "&=& \\operatorname{E}[X]  \\\\\n",
    "\\end{eqnarray}\n",
    "$\n",
    "\n",
    "<br> \n",
    "\n",
    "> ### **표본평균은 확률변수의 기댓값 근처의 값이 된다.**\n",
    "\n"
   ]
  },
  {
   "cell_type": "markdown",
   "metadata": {},
   "source": [
    "---"
   ]
  },
  {
   "cell_type": "markdown",
   "metadata": {},
   "source": [
    "## **중앙값**\n",
    "\n",
    "확률변수의 중앙값(median)은 중앙값보다 큰 값이 나올 확률과 작은 값이 나올 확률이 0.5로 같은 값을 뜻한다. \n",
    "\n",
    "따라서 다음과 같이 **누적확률분포  $F(x)$*에서 중앙값을 계산할 수 있다.\n",
    "\n",
    "#### $0.5=F(median)$\n",
    "#### $\\text{median} = F^{-1}(0.5)$\n",
    "\n",
    "<img width = '700' src = 'https://datascienceschool.net/upfiles/178249d00ab7433bb3d75ed50f4d939c.png'/>\n"
   ]
  },
  {
   "cell_type": "markdown",
   "metadata": {},
   "source": [
    "---"
   ]
  },
  {
   "cell_type": "markdown",
   "metadata": {},
   "source": [
    "## **최빈값**\n",
    "\n",
    "이산확률분포에서는 가장 확률 값이 큰 수를 최빈값(most grequency value)이라고 한다. \n",
    "\n",
    "하지만 연속확률분포인 경우에는 어느 값에 대해서나 특정한 값이 나올 확률은 0(zero)이므로 연속확률분포의 최빈값(mode)은 확률밀도함수  p(x) 의 값이 가장 큰 확률변수의 값으로 정의한다. \n",
    "\n",
    "**즉 확률밀도함수의 최댓값의 위치이다.**\n",
    "\n",
    "### $\\text{mode} = \\arg \\max_x p(x)$"
   ]
  }
 ],
 "metadata": {
  "kernelspec": {
   "display_name": "Python 3",
   "language": "python",
   "name": "python3"
  },
  "language_info": {
   "codemirror_mode": {
    "name": "ipython",
    "version": 3
   },
   "file_extension": ".py",
   "mimetype": "text/x-python",
   "name": "python",
   "nbconvert_exporter": "python",
   "pygments_lexer": "ipython3",
   "version": "3.6.4"
  }
 },
 "nbformat": 4,
 "nbformat_minor": 2
}
