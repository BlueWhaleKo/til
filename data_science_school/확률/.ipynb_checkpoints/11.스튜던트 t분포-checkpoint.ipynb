{
 "cells": [
  {
   "cell_type": "markdown",
   "metadata": {},
   "source": [
    "출처 : https://datascienceschool.net/view-notebook/8956e37db86c44b3b1b3a4c3357e590c/"
   ]
  },
  {
   "cell_type": "markdown",
   "metadata": {},
   "source": [
    "# **스튜던트 t분포**"
   ]
  },
  {
   "cell_type": "markdown",
   "metadata": {},
   "source": [
    "## **팻테일(fat-tail) 현상**"
   ]
  },
  {
   "cell_type": "markdown",
   "metadata": {},
   "source": [
    "여러가지 데이터 분포를 살펴보면 가우시안 정규분포와 상당히 유사하지만 양 끝단의 비중이 정규 분포에 비해 더 큰 데이터들을 발견할 수 있다. 정규 분포라 가정했을 때보다 극단적 현상이 더 자주 발생한다는 뜻이다. 분포의 모양을 볼 때 양 끝(꼬리) 부분이 정규 분포보다 두껍다고 해서 이를 팻 테일(fat tail 현상이라고 한다. 예를 들어 주식의 수익률은 보통 정규 분포를 따르는 것으로 가정하는데 실제로는 정규분포에서는 자주 발생할 수 없는 극단적인 사건들이 종종 발생하곤 한다."
   ]
  },
  {
   "cell_type": "markdown",
   "metadata": {},
   "source": [
    "팻-테일을 보이는 데이터의 모형에 적합한 것이 **스튜던트 t 분포(student-t distribution)**이다."
   ]
  },
  {
   "cell_type": "markdown",
   "metadata": {},
   "source": [
    "---"
   ]
  },
  {
   "cell_type": "markdown",
   "metadata": {},
   "source": [
    "스튜던트 t 분포의 확률 밀도 함수는 다음 수식에 의해 정의된다. 가우시안 정규 분포와 달리 정수값을 가지는 자유도(degree of freedom)라는 모수(parameter)  ν 를 추가적으로 가진다."
   ]
  },
  {
   "cell_type": "markdown",
   "metadata": {},
   "source": [
    "### $ t(x;\\mu, \\sigma^2, \\nu) = \\frac{\\Gamma\\left(\\frac{\\nu+1}{2}\\right)} {\\sqrt{\\nu\\pi}\\Gamma\\left(\\frac{\\nu}{2}\\right)} \\left(1+\\frac{(x-\\mu)^2}{\\nu\\sigma^2} \\right)^{-\\frac{\\nu+1}{2}} $"
   ]
  },
  {
   "cell_type": "markdown",
   "metadata": {},
   "source": [
    "이 식에서 $\\Gamma(x)$ 는 감마(Gamma) 함수라는 특수 함수이다."
   ]
  },
  {
   "cell_type": "markdown",
   "metadata": {},
   "source": [
    "## $ \\Gamma(x) = \\int_0^\\infty  u^{x-1} e^{-u} du $"
   ]
  },
  {
   "cell_type": "markdown",
   "metadata": {},
   "source": [
    "---"
   ]
  },
  {
   "cell_type": "markdown",
   "metadata": {},
   "source": [
    "## **모멘트**"
   ]
  },
  {
   "cell_type": "markdown",
   "metadata": {},
   "source": [
    "스튜던트 t 분포의 기댓값과 분산은 다음과 같다.\n",
    " + ### **기댓값**\n",
    "   #### $$ \\text{E}[X] = \\mu $$\n",
    " + ### **분산: ( ν>2  인 경우만 적용됨.  ν=1,2 일 때는 분산이 무한대**\n",
    " #### $$ \\text{Var}[X] = \\dfrac{\\nu \\sigma^2}{\\nu-2} $$\n",
    " "
   ]
  },
  {
   "cell_type": "markdown",
   "metadata": {},
   "source": [
    " "
   ]
  },
  {
   "cell_type": "markdown",
   "metadata": {},
   "source": [
    "---"
   ]
  },
  {
   "cell_type": "markdown",
   "metadata": {},
   "source": [
    "## **통계량 분포**"
   ]
  },
  {
   "cell_type": "markdown",
   "metadata": {},
   "source": [
    "가우시안 정규 분포의 표본을 표준편차로 나우어 정규화한  $z$  통계량은 항상 가우시안 정규 분포가 된다는 것은 이미 공부하였다. 그런데  $z$  통계량을 구하려면 확률분포의 정확한 표준편차를 우리가 알고 있어야 한다. 하지만 현실적으로는 확률분포에 대한 정확한 지식이 없기 때문에 표본에서 측정한 표본표분편차(sample standard deviation)로 정규화할 수 밖에 없다. \n",
    "\n",
    "**가우시안 정규 분포로부터 얻은  N 개의 표본  $x_1,\\dots, x_N$ 에서 계산한 표본평균을 표본표준편차로 정규화한 값을  $t$  통계량이라고 한다.**\n",
    "\n",
    "**t  통계량은 자유도가  N−1 인 스튜던트 t 분포를 이룬다.**"
   ]
  },
  {
   "cell_type": "markdown",
   "metadata": {},
   "source": [
    "#### $ t = \\frac{\\bar{x} - \\mu}{\\dfrac{s}{\\sqrt{N}}} \\sim t \\, (x; 0, 1, N - 1) $"
   ]
  },
  {
   "cell_type": "markdown",
   "metadata": {},
   "source": [
    "이 식에서  $\\bar{x},s$ 은 각각 표본평균, 표본표준편차다."
   ]
  },
  {
   "cell_type": "markdown",
   "metadata": {},
   "source": [
    "### $ \\bar{x} = \\frac{x_1+\\cdots+x_N}{N} $"
   ]
  },
  {
   "cell_type": "markdown",
   "metadata": {},
   "source": [
    "### $s^2 = \\frac{1}{N-1}\\sum_{i=1}^N (x_i - \\bar{x})^2$"
   ]
  },
  {
   "cell_type": "markdown",
   "metadata": {},
   "source": [
    "**이 정리는 추후 정규 분포의 기댓값에 관한 각종 검정(testing)에서 사용된다. **"
   ]
  }
 ],
 "metadata": {
  "kernelspec": {
   "display_name": "Python 3",
   "language": "python",
   "name": "python3"
  },
  "language_info": {
   "codemirror_mode": {
    "name": "ipython",
    "version": 3
   },
   "file_extension": ".py",
   "mimetype": "text/x-python",
   "name": "python",
   "nbconvert_exporter": "python",
   "pygments_lexer": "ipython3",
   "version": "3.6.5"
  }
 },
 "nbformat": 4,
 "nbformat_minor": 2
}
