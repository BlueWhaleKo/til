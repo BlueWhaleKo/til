{
 "cells": [
  {
   "cell_type": "markdown",
   "metadata": {},
   "source": [
    "출처 : https://datascienceschool.net/view-notebook/70a372b9c14a4e8d9d49737f0b5a3c97/"
   ]
  },
  {
   "cell_type": "markdown",
   "metadata": {},
   "source": [
    "출처 : http://issactoast.com/113?category=250878 - 둘리의 출루율과 예시로 베이지안, 베타분포를 잘 설명한 글입니다."
   ]
  },
  {
   "cell_type": "markdown",
   "metadata": {},
   "source": [
    "# **베타 분포**"
   ]
  },
  {
   "cell_type": "markdown",
   "metadata": {},
   "source": [
    "사전분포를 베이지안에서는 보통 베타 분포를 사용해서 나타낸다. 이러한 이유는 연속함수 이면서 알파와 베타를 조정하여 0에서 1까지의 값을 갖는 여러가지 모양을 만들어낼 수 있는 베타분포의 특징 때문이다.\n",
    "\n",
    "**베이지안 정리를 통해 구한 사후확률의 분포 역시 베타분포를 따른다.** \n"
   ]
  },
  {
   "cell_type": "markdown",
   "metadata": {},
   "source": [
    "둘리는 이제 막 중학교 야구부에 입단한 야구 꿈나무이다. 이제 초등학교 6학년을 마친 두치의 지난 시즌의 성적은 100번의 타석에 들어섰고, 그 중 40번을 출루하였다.\n",
    "\n",
    "두치가 속한 중학교의 야구 감독로 있는 길동이는 이제 막 들어온 두치의 중학교 리그의 적응 가능성을 예상하기 위해서 정규 리그가 시작하기 전 시범 경기에 두치를 출전시키기로 하였다. 길동이는 여러 해에 걸쳐 신입생들을 관찰한 결과, 초등리그와 중학리그의 큰 차이를 알기 때문에 선수들의 초등학교에서의 성적을 별로 신뢰하지 않는 편이다.\n",
    "\n",
    "한편, 둘리 아빠는 이번에 새로 중학교에 들어가는 두치에게 거는 기대가 크다. 초등학교를 졸업하고, 둘리는 매일매일 훈련을 빠지지 않고 열심히 했고, 실력도 점점 늘어가는게 눈이 보이기 때문이다.\n",
    "\n",
    "어느날 학부모 상담을 마친 둘리 아빠는 기분이 썩 좋지만은 않았다. 왜냐하면 둘리의 야구부 감독인 길동이가 한 말 때문이었다.\n",
    "\n",
    "“둘리가 처음 중학교 리그에 적응하는데에는 시간이 좀 필요할 겁니다. 초등 리그보다 중등 리그의 수준이 훨씬 높기 때문에 둘리의 초등학생때의 기록인 40%보다는 좀 못미치는 30% 정도쯤의 출루율이 나올것이라 생각하고 있습니다.”\n",
    "\n",
    "둘리 아빠는 길동이가 아직 둘리에 대하여 잘 알지 못해서 그런 말을 한다고 생각했다.\n",
    "\n",
    "‘지난 방학동안 둘리는 얼마나 많은 배트를 휘둘렀던가? 우리 둘리는 중학 리그에서도 충분히 초등학교에서의 출루율, 아니 그 이상의 출루율을 달성할 수 있을거야!’\n",
    "\n",
    " "
   ]
  },
  {
   "cell_type": "markdown",
   "metadata": {},
   "source": [
    "## **길동이와 둘리 아빠의 사전분포**\n",
    "\n",
    "위의 이야기에서 길동이와 둘리아빠는 둘리의 출루율에 대한 각기 다른 사전분포를 가지고 있다. 길동이의 경우는 둘리의 중학 리그에서의 출루율을 30% 근처라고 예상하고 있다. 반면 둘리 아빠의 경우는 둘리의 출루율을 초등 리그에서의 출루율 40% 혹은 그 이상일 것이라 생각한다. 이 둘의 둘리의 출루율에 대한 사전분포를 베이지안에서는 보통 베타 분포를 사용해서 나타낸다. 이러한 이유는 연속함수 이면서 알파와 베타를 조정하여 0에서 1까지의 값을 갖는 여러가지 모양을 만들어낼 수 있는 베타분포의 특징 때문이다.\n"
   ]
  },
  {
   "cell_type": "markdown",
   "metadata": {},
   "source": [
    "- 베타분포 pdf (사전확률 정의)\n",
    " $$ p\\left(\\theta;\\alpha,\\beta\\right)=\\begin{cases}\n",
    "\\frac{\\theta^{\\alpha-1}(1-\\theta)^{\\beta-1}}{B(\\alpha,\\beta)}\\! & \\theta\\in\\left[0,1\\right]\\\\\n",
    "0 & otherwise\n",
    "\\end{cases}$$\n",
    "\n",
    "필자의 경우, 길동이와 둘리 아빠의 사전분포를 다음과 같은 모수를 가진 베타분포를 따른다고 가정하였다.\n",
    "\n",
    "<br> \n",
    "\n",
    "- 둘리 아빠의 사전분포\n",
    "\n",
    "$p_{D}\\left(\\theta;\\alpha=9,\\beta=11\\right)=\\begin{cases}\n",
    "\\frac{\\theta^{9-1}(1-\\theta)^{11-1}}{B(9,11)}\\! & \\theta\\in\\left[0,1\\right]\\\\\n",
    "0 & otherwise\n",
    "\\end{cases}$\n",
    "\n",
    "- 길동이의 사전분포\n",
    "\n",
    "$p_{G}\\left(\\theta;\\alpha=6,\\beta=12\\right)=\\begin{cases}\n",
    "\\frac{\\theta^{6-1}(1-\\theta)^{12-1}}{B(6,12)}\\! & \\theta\\in\\left[0,1\\right]\\\\\n",
    "0 & otherwise\n",
    "\\end{cases}$"
   ]
  },
  {
   "cell_type": "markdown",
   "metadata": {},
   "source": [
    "---"
   ]
  },
  {
   "cell_type": "markdown",
   "metadata": {},
   "source": [
    "## **둘리의 시범경기 데이터 모델링**\n",
    "\n",
    "둘리는 몇차례의 시범 경기를 통하여 총 15차례 타석에 들어섰다. 이 중 7번을 출루하는데에 성공하였다. 우리는 이 데이터를 바탕으로 모델을 설정할 수 있는데, 둘리의 진짜 출루율을 성공 확률로 보고, 총 타석에 들어선 횟수를 n, 출루를 한 횟수 y를 이항분포를 따르는 확률변수로 생각할 수 있다.\n",
    "\n",
    "$ \\begin{align*}\n",
    "Y|\\Theta=\\theta & \\sim Bin\\left(n,\\theta\\right)\\\\\n",
    " & \\sim p\\left(y|\\theta\\right)=\\left(\\begin{array}{c}\n",
    "n\\\\\n",
    "y\n",
    "\\end{array}\\right)\\theta^{y}\\left(1-\\theta\\right)^{n-y}\n",
    "\\end{align*} $\n",
    "\n",
    "따라서 둘리의 출루율을 θ라고 할 경우, 15번의 타석에서 7번을 출루할 확률은 다음과 같다.\n",
    "\n",
    "$Pr\\left(Y=7|\\theta\\right)=\\left(\\begin{array}{c}\n",
    "15\\\\\n",
    "7\n",
    "\\end{array}\\right)\\theta^{7}\\left(1-\\theta\\right)^{8}$"
   ]
  },
  {
   "cell_type": "markdown",
   "metadata": {},
   "source": [
    "---\n",
    "\n",
    "## **사후 분포(posterior dist.) 구하기와 켤레분포(conjugate dist.)의 개념**\n",
    "\n",
    "따라서 베이즈 정리에 따른 사후 분포는 다음과 같이 구할 수 있다.\n",
    "\n",
    "$\n",
    "\\begin{align*}\n",
    "p\\left(\\theta|Y=y\\right) & =\\frac{p\\left(Y=y|\\theta\\right)p\\left(\\theta\\right)}{p\\left(Y=y\\right)}\\\\\n",
    " & =\\frac{p\\left(Y=y|\\theta\\right)p\\left(\\theta\\right)}{\\int p\\left(y,\\theta\\right)d\\theta}\\\\\n",
    "\\tag{1} & =\\frac{p\\left(Y=y|\\theta\\right)p\\left(\\theta\\right)}{\\int p\\left(Y=y|\\theta\\right)p\\left(\\theta\\right)d\\theta}\n",
    "\\end{align*}$\n"
   ]
  },
  {
   "cell_type": "markdown",
   "metadata": {},
   "source": [
    "앞에서 설정한 사전분포와 조건부 확률분포를 이용하여 식 (1)의 분자 부분은 다음과 같이 나타낼 수 있다.\n",
    "\n",
    "<br>\n",
    "\n",
    "\n",
    "### **분자**\n",
    "\n",
    "$\\begin{align*}\n",
    "p\\left(\\theta,y\\right) & =\\left(\\begin{array}{c}\n",
    "n\\\\\n",
    "y\n",
    "\\end{array}\\right)\\theta^{y}\\left(1-\\theta\\right)^{n-y}\\frac{\\theta^{\\alpha-1}(1-\\theta)^{\\beta-1}}{B(\\alpha,\\beta)}\\\\\n",
    " & =\\left(\\begin{array}{c}\n",
    "n\\\\\n",
    "y\n",
    "\\end{array}\\right)\\frac{1}{B(\\alpha,\\beta)}\\theta^{\\left(y+\\alpha\\right)-1}\\left(1-\\theta\\right)^{\\left(n-y+\\beta\\right)-1}\n",
    "\\end{align*}$\n"
   ]
  },
  {
   "cell_type": "markdown",
   "metadata": {},
   "source": [
    "<br>\n",
    "\n",
    "### **분모**\n",
    "\n",
    "$\\begin{align*}\n",
    "p\\left(y\\right) & =\\int_{-\\infty}^{\\infty}p\\left(y|\\theta\\right)p\\left(\\theta\\right)d\\theta\\\\\n",
    " & =\\int_{0}^{1}p\\left(y|\\theta\\right)p\\left(\\theta\\right)d\\theta\\\\\n",
    " & =\\int_{0}^{1}\\left(\\begin{array}{c}\n",
    "n\\\\\n",
    "y\n",
    "\\end{array}\\right)\\theta^{y}\\left(1-\\theta\\right)^{n-y}\\frac{\\theta^{\\alpha-1}(1-\\theta)^{\\beta-1}}{B(\\alpha,\\beta)}d\\theta\\\\\n",
    " & =\\left(\\begin{array}{c}\n",
    "n\\\\\n",
    "y\n",
    "\\end{array}\\right)\\frac{1}{B(\\alpha,\\beta)}\\int_{0}^{1}\\theta^{\\left(y+\\alpha\\right)-1}\\left(1-\\theta\\right)^{\\left(n-y+\\beta\\right)-1}d\\theta\\\\\n",
    " & =\\left(\\begin{array}{c}\n",
    "n\\\\\n",
    "y\n",
    "\\end{array}\\right)\\frac{B(\\alpha+y,\\beta+n-y)}{B(\\alpha,\\beta)}\n",
    "\\end{align*}$"
   ]
  },
  {
   "cell_type": "markdown",
   "metadata": {},
   "source": [
    "마지막 등호는 베타분포 모수 $y+\\alpha$,  $\\beta+n - y$의 확률밀도함수를 적분하면 1이 된다는 것을 이용한 것이다. \n",
    "\n",
    "따라서 식 (1)을 위의 두 결과를 종합하여 계산하면 다음과 같이 사후분포를 구할 수 있다.\n",
    "\n",
    "### **사후분포**\n",
    "\n",
    "$\\begin{align*}\n",
    "p\\left(\\theta|Y=y\\right) & =\\frac{\\left(\\begin{array}{c}\n",
    "n\\\\\n",
    "y\n",
    "\\end{array}\\right)\\frac{1}{B(\\alpha,\\beta)}\\theta^{\\left(y+\\alpha\\right)-1}\\left(1-\\theta\\right)^{\\left(n-y+\\beta\\right)-1}}{\\left(\\begin{array}{c}\n",
    "n\\\\\n",
    "y\n",
    "\\end{array}\\right)\\frac{B(\\alpha+y,\\beta+n-y)}{B(\\alpha,\\beta)}}\\\\\n",
    " & =\\frac{1}{B(\\alpha+y,\\beta+n-y)}\\theta^{\\left(y+\\alpha\\right)-1}\\left(1-\\theta\\right)^{\\left(n-y+\\beta\\right)-1}\\\\\n",
    " & \\sim Beta\\left(\\alpha+y,\\beta+n-y\\right)\n",
    "\\end{align*}$"
   ]
  },
  {
   "cell_type": "markdown",
   "metadata": {},
   "source": [
    "위의 결과를 통하여 **사후 분포 역시 우리가 사전 분포 썼던 베타분포를 따른다는 것을 알 수 있다.** 이것은 이항분포의 pdf와 베타분포의 pdf의 형태 때문이라는 알 수 있는데, 이와 같이 사전분포와 사후분포가 같은 분포의 형태를 띄도록 만들어지는 궁합이 잘맞는 분포들을 **켤레분포**라고 부른다. 우리가 설정한 사전분포인 베타분포와 데이터 발생 분포인 이항분포의 조합으로 만들어지는 **사후분포는 베타분포의 모수가 사전분포의 α에 성공횟수를 더하고, β에는 실패횟수를 더하여 업데이트 된 베타분포가 된다.**"
   ]
  },
  {
   "cell_type": "markdown",
   "metadata": {},
   "source": [
    "---"
   ]
  },
  {
   "cell_type": "markdown",
   "metadata": {},
   "source": [
    "## **Datascience School : 베타분포**"
   ]
  },
  {
   "cell_type": "markdown",
   "metadata": {},
   "source": [
    "베타 분포는  $a$ 와 $b$ 라는 두 개의 모수를 가지며 표본 공간은 0과 1사이의 실수이다. 즉 0와 1사이의 표본값만 가질 수 있다."
   ]
  },
  {
   "cell_type": "markdown",
   "metadata": {},
   "source": [
    "$$\\text{Beta}(x;a,b), \\;\\; 0 \\leq x \\leq 1$$"
   ]
  },
  {
   "cell_type": "markdown",
   "metadata": {},
   "source": [
    " "
   ]
  },
  {
   "cell_type": "markdown",
   "metadata": {},
   "source": [
    "베타 분포의 확률밀도함수(pdf)는 다음과 같다.\n",
    "\n",
    "#### $\\begin{align}\n",
    "\\text{Beta}(x;a,b) \n",
    "& = \\frac{\\Gamma(a+b)}{\\Gamma(a)\\Gamma(b)}\\, x^{a-1}(1-x)^{b-1} \n",
    "\\end{align}$"
   ]
  },
  {
   "cell_type": "markdown",
   "metadata": {},
   "source": [
    "$f\\left(x;\\alpha,\\beta\\right)=\\begin{cases}\n",
    "\\frac{x^{\\alpha-1}(1-x)^{\\beta-1}}{B(\\alpha,\\beta)}\\! & x\\in\\left[0,1\\right]\\\\\n",
    "0 & otherwise\n",
    "\\end{cases}$"
   ]
  },
  {
   "cell_type": "markdown",
   "metadata": {},
   "source": [
    "이 식에서  $\\Gamma(a)$ 는 감마 함수(Gamma function)라는 특수함수로 다음처럼 정의된다."
   ]
  },
  {
   "cell_type": "markdown",
   "metadata": {},
   "source": [
    "### $\\Gamma(a) = \\int_0^\\infty  x^{a-1} e^{-x}\\, dx$"
   ]
  },
  {
   "cell_type": "markdown",
   "metadata": {},
   "source": [
    "베타 분포의 기댓값, 최빈값, 분산은 각각 다음과 같다.\n",
    "\n",
    " - **기댓값**\n",
    " $$ \\operatorname{E}[X] = \\frac{\\alpha}{\\alpha+\\beta}\\! $$\n",
    " \n",
    " <br>\n",
    " \n",
    " - **분산**\n",
    " $$ \\operatorname{var}[X] = \\frac{\\alpha\\beta}{(\\alpha+\\beta)^2(\\alpha+\\beta+1)}\\!$$\n",
    " \n",
    " <br>\n",
    " \n",
    " - **최빈값**\n",
    " $$ \\frac{\\alpha-1}{\\alpha+\\beta-2}\\!$$"
   ]
  }
 ],
 "metadata": {
  "kernelspec": {
   "display_name": "Python 3",
   "language": "python",
   "name": "python3"
  },
  "language_info": {
   "codemirror_mode": {
    "name": "ipython",
    "version": 3
   },
   "file_extension": ".py",
   "mimetype": "text/x-python",
   "name": "python",
   "nbconvert_exporter": "python",
   "pygments_lexer": "ipython3",
   "version": "3.6.4"
  }
 },
 "nbformat": 4,
 "nbformat_minor": 2
}
