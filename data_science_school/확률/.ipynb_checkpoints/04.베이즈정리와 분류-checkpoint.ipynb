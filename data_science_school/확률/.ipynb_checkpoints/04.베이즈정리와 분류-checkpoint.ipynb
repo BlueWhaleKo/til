{
 "cells": [
  {
   "cell_type": "markdown",
   "metadata": {},
   "source": [
    "출처 : https://datascienceschool.net/view-notebook/165cbb986f2c443ba7bac9ec83659b46/ - 데이터사이언스 스쿨"
   ]
  },
  {
   "cell_type": "markdown",
   "metadata": {},
   "source": [
    "# **베이즈 정리와 분류 문제**\n",
    "베이즈 정리는 머신 러닝 중 분류(classification) 문제를 해결하는데 사용될 수 있다. \n",
    "\n",
    "분류 문제는 입력 자료  X 의 값으로부터 카테고리 값인 출력 자료  Y 의 값을 예측(prediction)하는 문제이다. 다음과 같은 문제는 분류 문제의 한 예이다."
   ]
  },
  {
   "cell_type": "markdown",
   "metadata": {},
   "source": [
    "## **과일 선택 문제**\n",
    "\n",
    "어떤 과일 가게에서 사과와 오렌지를 팔고 있다. 사과와 오렌지는 Red 농장과 Blue 농장에서 공급받는다.\n",
    "\n",
    "어느날 Red 농장에서 붉은 상자에 사과 2개, 오렌지 6개를 담아서 보냈다. Blue 농장에서는 푸른 상자에 사과가 3, 오렌지가 1개를 담아서 공급했다.\n",
    "\n",
    "이 과일을 받은 과일 가게 주인은 이 과일들을 모두 상자에서 꺼내어 늘어놓고 판매를 시작하였다. 이 때 어떤 손님이 와서 오렌지를 하나 선택했다( X=  오렌지). \n",
    "\n",
    "이 오렌지는 Red 농장에서 온 것일까( Y= Red), 아니면 Blue 농장에서 온 것일까( Y= Blue)? 만약 Red 농장과 Blue 농장 중 하나의 답을 정해야 한다면 여러분은 어느 농장을 선택하겠는가?\n",
    "\n",
    "![](https://datascienceschool.net/upfiles/0de6f71ac0644f32a9f681d0553b1df1.png)\n",
    "<img width = 700 src = 'https://datascienceschool.net/upfiles/0de6f71ac0644f32a9f681d0553b1df1.png'>"
   ]
  },
  {
   "cell_type": "markdown",
   "metadata": {},
   "source": [
    "이 문제의 답은 누구나 직관적으로 알 수 있다. 오렌지가 더 많은 상자가 붉은 상자(Red 농장)이기 때문에 꺼낸 과일이 오렌지라면 상자는 원산지가 Red 농장일 가능성이 높을 것이다. 그 가능성 즉, 확률을 수치화해보자.\n",
    "\n",
    "이 문제를 확률론의 용어로 다시 정리한다.\n",
    "\n",
    "- 손님이 선택한 과일이 사과인 사건  X=A \n",
    "- 손님이 선택한 과일이 오렌지인 사건  X=O \n",
    "- 손님이 선택한 과일이 Red 농장에서 왔을 사건  Y=R \n",
    "- 손님이 선택한 과일이 Blue 농장에서 왔을 사건  Y=B \n",
    "\n",
    "우리가 원하는 확률은 \"손님이 오렌지를 선택한 경우에 원산지가 Red 농장일 확률\"이므로 다음과 같은 조건부 확률이다.\n",
    "\n",
    "$P(Y=R|X=O)$\n",
    " \n",
    "이 조건부 확률 값을 구하기 위해 우선 다음과 같은 확률 값을 구한다.\n",
    "\n",
    "전체 샘플 12개 중에서 Red 농장에서 온 샘플이 8개이므로\n",
    "\n",
    "### $P(Y=R)= {8 \\over 8+4}= {8 \\over 12}$\n",
    " \n",
    "Red 농장의 샘플 8개 중에서 오렌지가 6개이므로\n",
    "\n",
    "### $P(X=O|Y=R)={6 \\over 2+6} = {6 \\over 8}$\n",
    " \n",
    "이 값과 베이즈 정리를 이용하여 조건부 확률을 계산하면 다음과 같다.\n",
    "\n",
    "$ \\begin{eqnarray}\n",
    "P(Y=R|X=O) \n",
    "&=& \\dfrac{P(X=O|Y=R)P(Y=R)}{P(X=O)}\n",
    "&=& \\dfrac{P(X=O|Y=R)P(Y=R)}{P(X=O|Y=R)P(Y=R) + P(X=O|Y=B)P(Y=B)} \n",
    "&=& \\dfrac{6/8 \\cdot 8/12}{6/8 \\cdot 8/12 + 1/4 \\cdot 4/12 } \n",
    "&=& \\dfrac{1/2}{1/2 + 1/12} = 6/7\n",
    "\\end{eqnarray} $ \n",
    "\n",
    "농장이 두 개 뿐이므로 원상지가 Blue 농장인 확률은  $1−P(Y=R|X=O)$ 이다.\n",
    "\n",
    "$P(Y=B|X=O) = 1 - P(Y=R|X=O) = 1/7$\n",
    " \n",
    "답이 Red 농장일 확률이  6/7 , Blue 농장일 확률이  1/7 이므로 예측 결과는 Red 농장이다.\n",
    "\n",
    "#### **이러한 방식으로 분류 문제를 풀기 위해서는 각각의 출력 카테고리  Y  에 대한 특징값  X 의 분포, 즉 likelihood를 알고 있어야 한다.** \n",
    "\n",
    "이렇게 베이즈 정리와 likelihood를 이용하여 각각의  Y  값에 대한 확률 값을 모두 구한 다음, 가장 확률 값이 높은  Y 값을 선택하여 분류 문제를 푸는 방법을 \n",
    "\n",
    "### **생성론적 방법(generative method)**라고 한다."
   ]
  },
  {
   "cell_type": "code",
   "execution_count": null,
   "metadata": {},
   "outputs": [],
   "source": []
  }
 ],
 "metadata": {
  "kernelspec": {
   "display_name": "Python 3",
   "language": "python",
   "name": "python3"
  },
  "language_info": {
   "codemirror_mode": {
    "name": "ipython",
    "version": 3
   },
   "file_extension": ".py",
   "mimetype": "text/x-python",
   "name": "python",
   "nbconvert_exporter": "python",
   "pygments_lexer": "ipython3",
   "version": "3.6.4"
  }
 },
 "nbformat": 4,
 "nbformat_minor": 2
}
