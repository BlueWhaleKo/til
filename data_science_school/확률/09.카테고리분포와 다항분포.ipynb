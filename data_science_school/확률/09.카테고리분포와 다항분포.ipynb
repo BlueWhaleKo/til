{
 "cells": [
  {
   "cell_type": "markdown",
   "metadata": {},
   "source": [
    "출처 : https://datascienceschool.net/view-notebook/354eb1d0e307423697ed805df07b96a5/"
   ]
  },
  {
   "cell_type": "markdown",
   "metadata": {},
   "source": [
    "# **카테고리 분포**"
   ]
  },
  {
   "cell_type": "markdown",
   "metadata": {},
   "source": [
    "카테고리 분포(Categorical distribution)는 베르누이 분포의 확장판이다.\n",
    "\n",
    "베르누이 분포는 0 이나 1(또는 -1 이나 1)이 나오는 확률변수의 분포였다. 즉 동전을 던져 나오는 결과를 묘사할 때 쓸 수 있다. 그런데 동전이 아닌 주사위를 던져서 나오는 경우는 어떻게 묘사할 수 있을까? 이 때 사용하는 것이 카테고리 분포이다.\n",
    "\n",
    "카테고리 분포는 1부터 $K$까지의  $K$ 개의 정수 값 중 하나가 나오는 확률변수의 분포이다. 따라서 주사위를 던져 나오는 눈금의 수는  $K=6$ 인 카테고리 분포이다.\n",
    "\n",
    "주의할 점은 카테고리 분포를 가진 확률변수는 원래 카테고리인 스칼라 값을 출력하는 확률변수지만 다음과 같이 1과 0으로만 이루어진 다차원 벡터로 변형하여 사용한다."
   ]
  },
  {
   "cell_type": "markdown",
   "metadata": {},
   "source": [
    "$\\begin{eqnarray}\n",
    "x = 1  \\;\\; & \\rightarrow & \\;\\; x = (1, 0, 0, 0, 0, 0) \\\\\n",
    "x = 2  \\;\\; & \\rightarrow & \\;\\; x = (0, 1, 0, 0, 0, 0) \\\\\n",
    "x = 3  \\;\\; & \\rightarrow & \\;\\; x = (0, 0, 1, 0, 0, 0) \\\\\n",
    "x = 4  \\;\\; & \\rightarrow & \\;\\; x = (0, 0, 0, 1, 0, 0) \\\\\n",
    "x = 5  \\;\\; & \\rightarrow & \\;\\; x = (0, 0, 0, 0, 1, 0) \\\\\n",
    "x = 6  \\;\\; & \\rightarrow & \\;\\; x = (0, 0, 0, 0, 0, 1) \\\\\n",
    "\\end{eqnarray}$"
   ]
  },
  {
   "cell_type": "markdown",
   "metadata": {},
   "source": [
    "이러한 인코딩 방식을 원-핫-인코딩(One-Hot-Encoding) 이라고 한다.\n",
    "\n",
    "즉 확률변수의 값  $x$ 이 다음과 같이 벡터이다."
   ]
  },
  {
   "cell_type": "markdown",
   "metadata": {},
   "source": [
    "$x = (x_1, x_2, x_3, x_4, x_5, x_6)$"
   ]
  },
  {
   "cell_type": "markdown",
   "metadata": {},
   "source": [
    "이 벡터를 구성하는 원소 $x_1, x_2, x_3, x_4, x_5, x_6$에는 다음과 같은 제한 조건이 붙는다."
   ]
  },
  {
   "cell_type": "markdown",
   "metadata": {},
   "source": [
    "$$x_i = \\begin{cases} 0 \\\\ 1 \\end{cases}$$"
   ]
  },
  {
   "cell_type": "markdown",
   "metadata": {},
   "source": [
    "$$\\sum_{k=1}^K x_k = 1$$"
   ]
  },
  {
   "cell_type": "markdown",
   "metadata": {},
   "source": [
    "첫번째 제한 조건은  $x_k$ 의 값이 0 또는 1 만 가능하다는 것이고 두번째 제한 조건은 여러개의  $x_k$  중 단 하나만 1일 수 있다는 것이다."
   ]
  },
  {
   "cell_type": "markdown",
   "metadata": {},
   "source": [
    "이 각각의 원소 값  $x_k$ 는 일종의 베르누이 확률분포로 볼 수 있기 때문에 각각 1이 나올 확률을 나타내는 모수  $\\mu_k$ 를 가진다. 그리고 전체 카테고리 분포의 모수는 다음과 같이 벡터로 나타낸다."
   ]
  },
  {
   "cell_type": "markdown",
   "metadata": {},
   "source": [
    "$$\\mu = ( \\mu_1, \\cdots , \\mu_K )$$"
   ]
  },
  {
   "cell_type": "markdown",
   "metadata": {},
   "source": [
    "이 모수 벡터도 다음과 같이 제한 조건을 가진다.\n",
    "\n",
    "$$ 0 \\leq \\mu_i \\leq 1 $$\n",
    "$$ \\sum_{k=1}^K \\mu_k = 1 $$"
   ]
  },
  {
   "cell_type": "markdown",
   "metadata": {},
   "source": [
    "첫번째 제한 조건은 모수  $\\mu_k$ 가 0과 1사이의 값만 가질 수 있다는 점을 가리킨다. 각각의 원소 값  $x_k$ 는 일종의 베르누이 확률분포로 볼 수 있기 때문에 당연하다. 두번째 제한 조건은  $\\mu_k$ 의 합이 1이 된다는 것이다. 나올 수 있는 경우의 확률의 합은 1이 되어야 하므로 이 또한 당연하다. 다만 0 아니면 1만 되어야 하는 $x_k$  와는 달리  $\\mu_k$  는 0부터 1사이의 어떤 실수 값이든 가질 수 있다.\n",
    "\n",
    "카테고리 분포는"
   ]
  },
  {
   "cell_type": "markdown",
   "metadata": {},
   "source": [
    "$$ \\text{Cat}(x_1, x_2, \\dots, x_K;\\mu_1, \\dots, \\mu_K) $$"
   ]
  },
  {
   "cell_type": "markdown",
   "metadata": {},
   "source": [
    "로 표기하거나 출력 벡터 $(x=(x_1, x_2, \\dots, x_K)$ 모수 벡터 $\\mu=(\\mu_1, \\dots, \\mu_K)$를 사용하여\n",
    "$$ \\text{Cat}(x;\\mu) $$"
   ]
  },
  {
   "cell_type": "markdown",
   "metadata": {},
   "source": [
    "로 간단히 표기할 수 있다.\n",
    "\n",
    "확률질량함수는 다음처럼 표기한다.\n",
    "\n",
    "$\n",
    "\\text{Cat}(x;\\mu) = \n",
    "\\begin{cases}\n",
    "\\mu_1 & \\text{if } x = (1, 0, 0, \\cdots, 0) \\\\\n",
    "\\mu_2 & \\text{if } x = (0, 1, 0, \\cdots, 0) \\\\\n",
    "\\mu_3 & \\text{if } x = (0, 0, 1, \\cdots, 0) \\\\\n",
    "\\vdots & \\vdots \\\\\n",
    "\\mu_K & \\text{if } x = (0, 0, 0, \\cdots, 1) \\\\\n",
    "\\end{cases}\n",
    "$"
   ]
  },
  {
   "cell_type": "markdown",
   "metadata": {},
   "source": [
    "위 식은 다음과 같이 쓸 수 있다. 이 간략한 표현은 One-Hot-Encoding을 사용한 덕분이다.\n",
    "\n",
    "\n",
    "$\n",
    "\\text{Cat}(x;\\mu) = \\mu_1^{x_1} \\mu_2^{x_2}  \\cdots \\mu_K^{x_K}  =  \\prod_{k=1}^K \\mu_k^{x_k}\n",
    "$"
   ]
  },
  {
   "cell_type": "markdown",
   "metadata": {},
   "source": [
    "---"
   ]
  },
  {
   "cell_type": "markdown",
   "metadata": {},
   "source": [
    "## **카테고리 분포의 모멘트**"
   ]
  },
  {
   "cell_type": "markdown",
   "metadata": {},
   "source": [
    "카테고리 분포는 표본값이 벡터이므로 기댓값과 분산도 벡터이다. 기댓값과 분산을 구하는 공식은 다음과 같다.\n",
    "\n",
    "- **기댓값**\n",
    "$$ \\text{E}[x_k] = \\mu_k $$\n",
    "\n",
    "- **분산**\n",
    "$$ \\text{Var}[x_k] = \\mu_k(1-\\mu_k)$$"
   ]
  },
  {
   "cell_type": "markdown",
   "metadata": {},
   "source": [
    "---"
   ]
  },
  {
   "cell_type": "markdown",
   "metadata": {},
   "source": [
    "출처 : https://datascienceschool.net/view-notebook/ab191449d60542edadaae91bc12deb99/"
   ]
  },
  {
   "cell_type": "markdown",
   "metadata": {},
   "source": [
    "# **다항분포**"
   ]
  },
  {
   "cell_type": "markdown",
   "metadata": {},
   "source": [
    "---"
   ]
  },
  {
   "cell_type": "markdown",
   "metadata": {},
   "source": [
    "베르누이 시도를 여러번 하여 얻은 총 성공 횟수 합이 이항 분포를 이루는 것처럼 독립적인 카테고리 분포를 여러번 시도하여 얻은 각 원소의 성공횟수 값은 **다항 분포(Multinomial distribution)가 된다.**"
   ]
  },
  {
   "cell_type": "markdown",
   "metadata": {},
   "source": [
    "다항 분포는 카테고리 시도를 $N$ 번 반복하여  $k\\;(k=1,\\ldots,K)$ 가 각각  $x_k$ 번 나올 확률분포 즉, 표본값이 벡터 $x = (x_1, \\cdots, x_K)$ 가 되는 확률분포를 말한다. \n",
    "\n",
    "예를 들어  $x = (1, 2, 1, 2, 3, 1)$ 은 6개의 숫자가 나올 수 있는 주사위를 10번 던져서 1인 면이 1번, 2인 면이 2번, 3인 면이 1번, 4인 면이 2번, 5인 면이 3 번, 6인 면이 1번 나왔다는 뜻이다.\n",
    "\n",
    "다항 분포의 확률질량함수는  $\\text{Mu}(x;N,\\mu)$와 같이 표기하며 다음과 같은 수식을 따른다."
   ]
  },
  {
   "cell_type": "markdown",
   "metadata": {},
   "source": [
    "## $\\text{Mu}(x;N,\\mu) = \\binom N x  \\prod_{k=1}^K \\mu_k^{x_k} = \\binom N {x_1, \\cdots, x_K} \\prod_{k=1}^K \\mu_k^{x_k}$"
   ]
  }
 ],
 "metadata": {
  "kernelspec": {
   "display_name": "Python 3",
   "language": "python",
   "name": "python3"
  },
  "language_info": {
   "codemirror_mode": {
    "name": "ipython",
    "version": 3
   },
   "file_extension": ".py",
   "mimetype": "text/x-python",
   "name": "python",
   "nbconvert_exporter": "python",
   "pygments_lexer": "ipython3",
   "version": "3.6.4"
  }
 },
 "nbformat": 4,
 "nbformat_minor": 2
}
