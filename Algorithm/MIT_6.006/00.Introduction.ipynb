{
 "cells": [
  {
   "cell_type": "markdown",
   "metadata": {},
   "source": [
    "# Course Overview\n",
    "\n",
    "\n",
    "## Efficient procedure for solving large Scale problems\n",
    "\n",
    "## Scalability (확장성)\n",
    "\n",
    "## Classic data structure & Classical algoriths\n",
    "\n",
    "## Real impementations in Python"
   ]
  },
  {
   "cell_type": "markdown",
   "metadata": {},
   "source": [
    " "
   ]
  },
  {
   "cell_type": "markdown",
   "metadata": {},
   "source": [
    " "
   ]
  },
  {
   "cell_type": "markdown",
   "metadata": {},
   "source": [
    " "
   ]
  },
  {
   "cell_type": "markdown",
   "metadata": {},
   "source": [
    "# Contents\n",
    "\n",
    "## 1. Algorithmic thinking   :   Peek finding\n",
    "## 2. Sorting & trees   :   Event simulation\n",
    "## 3. Hashing   :   Genome comparision\n",
    "## 4. Numerics  :   RSA encryption\n",
    "## 5. Graphs   :   Rubics cube\n",
    "## 6. Shortest paths  :  Calthech to MIT\n",
    "## 7. Dynamic Programming  :  Image compression\n",
    "## 8. Advanced topics\n"
   ]
  }
 ],
 "metadata": {
  "kernelspec": {
   "display_name": "Python 3",
   "language": "python",
   "name": "python3"
  },
  "language_info": {
   "codemirror_mode": {
    "name": "ipython",
    "version": 3
   },
   "file_extension": ".py",
   "mimetype": "text/x-python",
   "name": "python",
   "nbconvert_exporter": "python",
   "pygments_lexer": "ipython3",
   "version": "3.6.4"
  }
 },
 "nbformat": 4,
 "nbformat_minor": 2
}
