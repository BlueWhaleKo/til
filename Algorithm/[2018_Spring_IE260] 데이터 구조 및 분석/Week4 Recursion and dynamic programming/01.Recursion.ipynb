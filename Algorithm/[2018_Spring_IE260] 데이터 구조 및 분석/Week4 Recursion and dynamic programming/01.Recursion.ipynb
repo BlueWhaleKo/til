{
 "cells": [
  {
   "cell_type": "markdown",
   "metadata": {},
   "source": [
    "# Recursion"
   ]
  },
  {
   "cell_type": "markdown",
   "metadata": {},
   "source": [
    "## Repeating problems and Divide and Conquer\n",
    " + **Factorial(n)**\n",
    "   - if n = 0 :\n",
    "   - if n > 0 :  n * Factorial(n-1)\n",
    "   \n",
    " + **Great Common Divisior (최대공약수)**\n",
    "   - Euclid's algorithm\n",
    "   - GCD(32,24) : 32를 24로 나눈다\n",
    "   - GCD(24,8) : 24로 나누고 나머지는 8 (나머지로 나눠준다)\n",
    "   - GCD(8,0) : 8로 나누고 나머지는 0"
   ]
  },
  {
   "cell_type": "code",
   "execution_count": 3,
   "metadata": {},
   "outputs": [],
   "source": [
    "def Fibonacci(n) :\n",
    "    if n == 0:\n",
    "        return 0\n",
    "    \n",
    "    if n == 1 :\n",
    "        return 1\n",
    "    \n",
    "    return Fibonacci(n-1) + Fibonacci(n-2)"
   ]
  },
  {
   "cell_type": "code",
   "execution_count": 5,
   "metadata": {},
   "outputs": [
    {
     "name": "stdout",
     "output_type": "stream",
     "text": [
      "0 1 1 2 3 5 8 13 21 34 "
     ]
    }
   ],
   "source": [
    "for itr in range(0,10):\n",
    "    print(Fibonacci(itr), end = ' ')"
   ]
  },
  {
   "cell_type": "code",
   "execution_count": null,
   "metadata": {},
   "outputs": [],
   "source": []
  }
 ],
 "metadata": {
  "kernelspec": {
   "display_name": "Python 3",
   "language": "python",
   "name": "python3"
  },
  "language_info": {
   "codemirror_mode": {
    "name": "ipython",
    "version": 3
   },
   "file_extension": ".py",
   "mimetype": "text/x-python",
   "name": "python",
   "nbconvert_exporter": "python",
   "pygments_lexer": "ipython3",
   "version": "3.6.4"
  }
 },
 "nbformat": 4,
 "nbformat_minor": 2
}
