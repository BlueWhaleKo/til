{
 "cells": [
  {
   "cell_type": "markdown",
   "metadata": {},
   "source": [
    "# Hello World in Python"
   ]
  },
  {
   "cell_type": "markdown",
   "metadata": {},
   "source": [
    "## Procedure-oriented Programming"
   ]
  },
  {
   "cell_type": "code",
   "execution_count": 14,
   "metadata": {},
   "outputs": [],
   "source": [
    "def main():\n",
    "    print('Hello World!')\n",
    "    print('This program computes the average of two exam score')\n",
    "    \n",
    "    score1, score2 = map(int, input('Enter two scores seperated by a space').split())\n",
    "    average = (score1 + score2)/2\n",
    "    \n",
    "    print('The average of the scores is %s'%average)"
   ]
  },
  {
   "cell_type": "code",
   "execution_count": 15,
   "metadata": {},
   "outputs": [
    {
     "name": "stdout",
     "output_type": "stream",
     "text": [
      "Hello World!\n",
      "This program computes the average of two exam score\n"
     ]
    },
    {
     "name": "stdin",
     "output_type": "stream",
     "text": [
      "Enter two scores seperated by a space 30 40\n"
     ]
    },
    {
     "name": "stdout",
     "output_type": "stream",
     "text": [
      "The average of the scores is 35.0\n"
     ]
    }
   ],
   "source": [
    "main()"
   ]
  },
  {
   "cell_type": "markdown",
   "metadata": {},
   "source": [
    " \n"
   ]
  },
  {
   "cell_type": "markdown",
   "metadata": {},
   "source": [
    " \n"
   ]
  },
  {
   "cell_type": "markdown",
   "metadata": {},
   "source": [
    " \n"
   ]
  },
  {
   "cell_type": "markdown",
   "metadata": {},
   "source": [
    "## Object-oriented program"
   ]
  },
  {
   "cell_type": "code",
   "execution_count": 16,
   "metadata": {},
   "outputs": [
    {
     "name": "stdout",
     "output_type": "stream",
     "text": [
      "Hello World!\n"
     ]
    },
    {
     "name": "stdin",
     "output_type": "stream",
     "text": [
      "Enter two scores seperated by a space 30 40\n"
     ]
    },
    {
     "name": "stdout",
     "output_type": "stream",
     "text": [
      "The average of the score is 35.0\n",
      "Good bye!\n"
     ]
    }
   ],
   "source": [
    "class HelloWorld:\n",
    "    def __init__(self):\n",
    "        print('Hello World!')\n",
    "        \n",
    "    def __del__(slef):\n",
    "        print('Good bye!')\n",
    "    \n",
    "    def perform_average(self, val1, val2):\n",
    "        average = (val1 + val2) / 2\n",
    "        print('The average of the score is %s'%average)\n",
    "        \n",
    "\n",
    "def main():\n",
    "    world = HelloWorld()\n",
    "    score1, score2 = map(int, input('Enter two scores seperated by a space').split())\n",
    "    world.perform_average(score1, score2)\n",
    "\n",
    "main()"
   ]
  },
  {
   "cell_type": "markdown",
   "metadata": {},
   "source": [
    " \n"
   ]
  },
  {
   "cell_type": "markdown",
   "metadata": {},
   "source": [
    " \n"
   ]
  },
  {
   "cell_type": "markdown",
   "metadata": {},
   "source": [
    " \n"
   ]
  },
  {
   "cell_type": "markdown",
   "metadata": {},
   "source": [
    "# Naming and Styling"
   ]
  },
  {
   "cell_type": "markdown",
   "metadata": {},
   "source": [
    "### Naming : Use names clearly conveying the meaning\n",
    "### - Use carmel casing"
   ]
  },
  {
   "cell_type": "markdown",
   "metadata": {},
   "source": [
    "### Class name : Capitalized first letter"
   ]
  },
  {
   "cell_type": "markdown",
   "metadata": {},
   "source": [
    "### Variable name : Start with lower case, Noun for the contents to be stored"
   ]
  },
  {
   "cell_type": "markdown",
   "metadata": {},
   "source": [
    "### Method name : Start with lower case, Verb for the method action"
   ]
  },
  {
   "cell_type": "markdown",
   "metadata": {},
   "source": [
    "  "
   ]
  },
  {
   "cell_type": "markdown",
   "metadata": {},
   "source": [
    "  "
   ]
  },
  {
   "cell_type": "markdown",
   "metadata": {},
   "source": [
    "  "
   ]
  },
  {
   "cell_type": "markdown",
   "metadata": {},
   "source": [
    "  "
   ]
  },
  {
   "cell_type": "markdown",
   "metadata": {},
   "source": [
    "# Class and Instance"
   ]
  },
  {
   "cell_type": "markdown",
   "metadata": {},
   "source": [
    "### Class는 설계도, Instance는 설계도로 제작된 집"
   ]
  },
  {
   "cell_type": "code",
   "execution_count": 20,
   "metadata": {},
   "outputs": [],
   "source": [
    "class MyHome():\n",
    "    colorRoof = 'red'\n",
    "    stateDoor = 'closed'\n",
    "    \n",
    "    def paintRoof(self, color):\n",
    "        self.colorRoof = color\n",
    "    def openDoor(self):\n",
    "        self.stateDoor = 'open'\n",
    "    def closeDoor(self):\n",
    "        self.stateDoor = 'close'\n",
    "    def printStatus(self):\n",
    "        print('Roof color is %s'%self.colorRoof,\\\n",
    "              'and the door is %s'%self.stateDoor)"
   ]
  },
  {
   "cell_type": "code",
   "execution_count": 22,
   "metadata": {},
   "outputs": [
    {
     "name": "stdout",
     "output_type": "stream",
     "text": [
      "Roof color is red and the door is closed\n"
     ]
    }
   ],
   "source": [
    "home = MyHome()\n",
    "home.printStatus()"
   ]
  },
  {
   "cell_type": "code",
   "execution_count": 24,
   "metadata": {},
   "outputs": [
    {
     "name": "stdout",
     "output_type": "stream",
     "text": [
      "Roof color is blue and the door is open\n"
     ]
    }
   ],
   "source": [
    "home.paintRoof('blue')\n",
    "home.openDoor()\n",
    "\n",
    "home.printStatus()"
   ]
  },
  {
   "cell_type": "markdown",
   "metadata": {},
   "source": [
    "# Constructor, Destructor"
   ]
  },
  {
   "cell_type": "code",
   "execution_count": 40,
   "metadata": {},
   "outputs": [],
   "source": [
    "from time import ctime        \n",
    "\n",
    "class MyHome():\n",
    "    colorRoof = 'red'\n",
    "    stateDoor = 'closed'\n",
    "    \n",
    "    def __init__(self, strAddress):\n",
    "        print('Bulit on %s'%strAddress)\n",
    "        print('Built at %s'%ctime())\n",
    "        \n",
    "    def __del__(self):\n",
    "        print('Destroyed at %s'%ctime())\n",
    "        \n",
    "    def paintRoof(self, color):\n",
    "        self.colorRoof = color\n",
    "    def openDoor(self):\n",
    "        self.stateDoor = 'open'\n",
    "    def closeDoor(self):\n",
    "        self.stateDoor = 'close'\n",
    "    def printStatus(self):\n",
    "        print('Roof color is %s'%self.colorRoof,\\\n",
    "              'and the door is %s'%self.stateDoor)\n",
    "        "
   ]
  },
  {
   "cell_type": "code",
   "execution_count": 43,
   "metadata": {},
   "outputs": [
    {
     "name": "stdout",
     "output_type": "stream",
     "text": [
      "Bulit on Seoul\n",
      "Built at Sun Oct  7 14:07:09 2018\n"
     ]
    }
   ],
   "source": [
    "home = MyHome(strAddress = 'Seoul')"
   ]
  },
  {
   "cell_type": "code",
   "execution_count": 44,
   "metadata": {},
   "outputs": [
    {
     "name": "stdout",
     "output_type": "stream",
     "text": [
      "Destroyed at Sun Oct  7 14:07:13 2018\n"
     ]
    }
   ],
   "source": [
    "del home"
   ]
  },
  {
   "cell_type": "code",
   "execution_count": null,
   "metadata": {},
   "outputs": [],
   "source": []
  },
  {
   "cell_type": "code",
   "execution_count": null,
   "metadata": {},
   "outputs": [],
   "source": []
  }
 ],
 "metadata": {
  "kernelspec": {
   "display_name": "Python 3",
   "language": "python",
   "name": "python3"
  },
  "language_info": {
   "codemirror_mode": {
    "name": "ipython",
    "version": 3
   },
   "file_extension": ".py",
   "mimetype": "text/x-python",
   "name": "python",
   "nbconvert_exporter": "python",
   "pygments_lexer": "ipython3",
   "version": "3.6.4"
  }
 },
 "nbformat": 4,
 "nbformat_minor": 2
}
