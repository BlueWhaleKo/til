{
 "cells": [
  {
   "cell_type": "markdown",
   "metadata": {},
   "source": [
    "# List, Stack, Queue"
   ]
  },
  {
   "cell_type": "markdown",
   "metadata": {},
   "source": [
    "<br>\n",
    "\n",
    "## Abstract Data Types (ADT)\n",
    "\n",
    "### An ADT sepcifies:\n",
    "  - Data stored\n",
    "  - Operations on the data\n",
    "  - Error conditions associated with operations\n",
    "\n"
   ]
  },
  {
   "cell_type": "markdown",
   "metadata": {},
   "source": [
    "## Ex : Stock Trading System\n",
    "\n",
    "### The data stored are buy/sell orders\n",
    "\n",
    "### The operations supported are\n",
    "  -  order buy(stock, shares, price)\n",
    "  -  order sell(stock, shares, price)\n",
    "  -  void cancel(stock, shares, price)"
   ]
  },
  {
   "cell_type": "markdown",
   "metadata": {},
   "source": [
    "<br>"
   ]
  },
  {
   "cell_type": "markdown",
   "metadata": {},
   "source": [
    "## Creating a List by Array\n",
    "\n",
    "### Array\n",
    "  - Each element is accessible by index\n",
    "  - Index is typically zero or a positive integer\n",
    "  - Very simple creation"
   ]
  },
  {
   "cell_type": "markdown",
   "metadata": {},
   "source": [
    "<img src = 'Array.png'>"
   ]
  },
  {
   "cell_type": "markdown",
   "metadata": {},
   "source": [
    "## ★ Search procedure in array\n",
    "  - Navigating from the first to the last until hit is the only way"
   ]
  },
  {
   "cell_type": "markdown",
   "metadata": {},
   "source": [
    " "
   ]
  },
  {
   "cell_type": "markdown",
   "metadata": {},
   "source": [
    "## ★ Insert Procedure in array\n",
    "  - Let's insert 'c' between 'b' and 'd' in the list (a = insert position index)\n",
    "    - make new list with six cells\n",
    "    "
   ]
  },
  {
   "cell_type": "code",
   "execution_count": 3,
   "metadata": {},
   "outputs": [],
   "source": [
    "x = ['a','b','d','e','f']\n",
    "\n",
    "idx_insert = 2\n",
    "val_insert = 'c'\n",
    "\n",
    "y = list(range(6))\n",
    "\n",
    "for i in range(0,idx_insert):\n",
    "    y[i] = x[i]\n",
    "    \n",
    "y[idx_insert] = val_insert\n",
    "\n",
    "for i in range(idx_insert, len(x)):\n",
    "    y[i+1] = x[i]"
   ]
  },
  {
   "cell_type": "code",
   "execution_count": 4,
   "metadata": {},
   "outputs": [
    {
     "data": {
      "text/plain": [
       "['a', 'b', 'c', 'd', 'e', 'f']"
      ]
     },
     "execution_count": 4,
     "metadata": {},
     "output_type": "execute_result"
    }
   ],
   "source": [
    "y"
   ]
  },
  {
   "cell_type": "markdown",
   "metadata": {},
   "source": [
    "## ★ Delete Procedure in array\n",
    "  - Let's remove 'd' in the list"
   ]
  },
  {
   "cell_type": "code",
   "execution_count": 5,
   "metadata": {},
   "outputs": [],
   "source": [
    "z = list(range(len(y) -1))\n",
    "\n",
    "idx_delete = 3\n",
    "\n",
    "for i in range(0, idx_delete):\n",
    "    z[i] = y[i]\n",
    "    \n",
    "for i in range(idx_delete+1, len(y)):\n",
    "    z[i-1] = y[i]"
   ]
  },
  {
   "cell_type": "code",
   "execution_count": 6,
   "metadata": {},
   "outputs": [
    {
     "data": {
      "text/plain": [
       "['a', 'b', 'c', 'e', 'f']"
      ]
     },
     "execution_count": 6,
     "metadata": {},
     "output_type": "execute_result"
    }
   ],
   "source": [
    "z"
   ]
  },
  {
   "cell_type": "markdown",
   "metadata": {},
   "source": [
    "## Problems in Array\n",
    "  - you have to perform line-wise(n) retrievals\n",
    "  \n",
    "## What if we have a magic to create a space in the middle of the line?\n",
    "  - Linked list -> you are bounded no more!\n",
    "  "
   ]
  },
  {
   "cell_type": "code",
   "execution_count": null,
   "metadata": {},
   "outputs": [],
   "source": []
  }
 ],
 "metadata": {
  "kernelspec": {
   "display_name": "Python 3",
   "language": "python",
   "name": "python3"
  },
  "language_info": {
   "codemirror_mode": {
    "name": "ipython",
    "version": 3
   },
   "file_extension": ".py",
   "mimetype": "text/x-python",
   "name": "python",
   "nbconvert_exporter": "python",
   "pygments_lexer": "ipython3",
   "version": "3.6.4"
  }
 },
 "nbformat": 4,
 "nbformat_minor": 2
}
