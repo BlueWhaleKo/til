{
 "cells": [
  {
   "cell_type": "markdown",
   "metadata": {},
   "source": [
    "# Linked list\n",
    "\n",
    " - Reference structure"
   ]
  },
  {
   "cell_type": "code",
   "execution_count": 7,
   "metadata": {},
   "outputs": [],
   "source": [
    "x = [1,2,3]\n",
    "y = [100, x, 120]\n",
    "z = [x, 'a', 'b']"
   ]
  },
  {
   "cell_type": "code",
   "execution_count": 8,
   "metadata": {},
   "outputs": [
    {
     "name": "stdout",
     "output_type": "stream",
     "text": [
      "[1, 2, 3]\n",
      "[100, [1, 2, 3], 120]\n",
      "[[1, 2, 3], 'a', 'b']\n"
     ]
    }
   ],
   "source": [
    "print(x , y,  z, sep = '\\n')"
   ]
  },
  {
   "cell_type": "code",
   "execution_count": 9,
   "metadata": {},
   "outputs": [],
   "source": [
    "x[1] = 1717"
   ]
  },
  {
   "cell_type": "code",
   "execution_count": 10,
   "metadata": {},
   "outputs": [
    {
     "name": "stdout",
     "output_type": "stream",
     "text": [
      "[1, 1717, 3]\n",
      "[100, [1, 1717, 3], 120]\n",
      "[[1, 1717, 3], 'a', 'b']\n"
     ]
    }
   ],
   "source": [
    "print(x , y,  z, sep = '\\n')"
   ]
  },
  {
   "cell_type": "code",
   "execution_count": 12,
   "metadata": {},
   "outputs": [],
   "source": [
    "x[1] = 2\n",
    "x2 = [1,2,3]"
   ]
  },
  {
   "cell_type": "markdown",
   "metadata": {},
   "source": [
    "## 값은 동일하지만 메모리에 저장된 위치는 다르다"
   ]
  },
  {
   "cell_type": "code",
   "execution_count": 13,
   "metadata": {},
   "outputs": [
    {
     "name": "stdout",
     "output_type": "stream",
     "text": [
      "Values are equivalent\n"
     ]
    }
   ],
   "source": [
    "if x == x2:\n",
    "    print('Values are equivalent')\n",
    "else:\n",
    "    print('Values are not equivalent')"
   ]
  },
  {
   "cell_type": "code",
   "execution_count": 14,
   "metadata": {},
   "outputs": [
    {
     "name": "stdout",
     "output_type": "stream",
     "text": [
      "Values are not stored at the same place\n"
     ]
    }
   ],
   "source": [
    "if x is x2:\n",
    "    print('Values are stored at the same place')\n",
    "else:\n",
    "    print('Values are not stored at the same place')"
   ]
  },
  {
   "cell_type": "markdown",
   "metadata": {},
   "source": [
    "<br>\n",
    "\n",
    "# Basic Structure : Singly linked list\n",
    "- ## with nodes and references\n",
    "<br> \n",
    "\n",
    "- ## A node consists of \n",
    "  - A variable to hold a reference to its next node\n",
    "  - A variable to hold a reference to its value object\n",
    "  \n",
    "## Spceial nodes \n",
    "  - ### Head and Tail"
   ]
  },
  {
   "cell_type": "markdown",
   "metadata": {},
   "source": [
    "<img src = 'images/singly linked list.png'>"
   ]
  },
  {
   "cell_type": "markdown",
   "metadata": {},
   "source": [
    "# Implementation of Node class\n",
    "\n",
    "## Member variables\n",
    "  - Variable to reference the next node\n",
    "  - Variable to hold a value object"
   ]
  },
  {
   "cell_type": "code",
   "execution_count": 57,
   "metadata": {},
   "outputs": [],
   "source": [
    "class Node:\n",
    "    node_next = ''\n",
    "    obj_value = ''\n",
    "    bln_head = False\n",
    "    bln_tail = False\n",
    "    \n",
    "    def __init__(self,obj_value = '', node_next = '', bln_head = False, bln_tail = False):\n",
    "        self.node_next = node_next\n",
    "        self.obj_value = obj_value\n",
    "        self.bln_head = bln_head\n",
    "        self.bln_tail = bln_tail\n",
    "    \n",
    "    def get_value(self):\n",
    "        return self.obj_value\n",
    "    \n",
    "    def set_value(self, obj_value):\n",
    "        self.obj_value = obj_value\n",
    "        return\n",
    "    \n",
    "    def get_next(self):\n",
    "        return self.node_next\n",
    "    \n",
    "    def set_next(self, node_next):\n",
    "        self.node_next = node_next\n",
    "        return\n",
    "        \n",
    "    def is_head(self):\n",
    "        return self.bln_head\n",
    "    \n",
    "    def is_tail(self):\n",
    "        return self.bln_tail\n",
    "\n",
    "    "
   ]
  },
  {
   "cell_type": "code",
   "execution_count": 30,
   "metadata": {},
   "outputs": [],
   "source": [
    "node_1 = Node(obj_value= 'a')\n",
    "\n",
    "node_head = Node(bln_head= True, node_next = node_1)\n",
    "node_tail = Node(bln_tail = True)"
   ]
  },
  {
   "cell_type": "markdown",
   "metadata": {},
   "source": [
    " "
   ]
  },
  {
   "cell_type": "markdown",
   "metadata": {},
   "source": [
    "## Head and Tail"
   ]
  },
  {
   "cell_type": "markdown",
   "metadata": {},
   "source": [
    "<img src = 'images/linked_list_with_2_nodes.PNG'>"
   ]
  },
  {
   "cell_type": "markdown",
   "metadata": {},
   "source": [
    " "
   ]
  },
  {
   "cell_type": "markdown",
   "metadata": {},
   "source": [
    "## Search precedure in singly linked list\n",
    " - let's find 'c' and 'd'"
   ]
  },
  {
   "cell_type": "markdown",
   "metadata": {},
   "source": [
    "<img src = 'images/search_procedure.png'>"
   ]
  },
  {
   "cell_type": "markdown",
   "metadata": {},
   "source": [
    "## Insert procedure in singly linked list\n",
    "\n",
    " - 기존의 index 방식의 array는 insert를 하기 위해, N번의 retrievals가 필요함\n",
    " - Linked list는 3번!"
   ]
  },
  {
   "cell_type": "markdown",
   "metadata": {},
   "source": [
    "<img src = 'images/insert_procedure.png'>"
   ]
  },
  {
   "cell_type": "code",
   "execution_count": 66,
   "metadata": {},
   "outputs": [],
   "source": [
    "class SinglyLinkedList:\n",
    "    node_head = ''\n",
    "    node_tail = ''\n",
    "    \n",
    "    size = 0\n",
    "    \n",
    "    def __init__(self):\n",
    "        self.node_tail = Node(bln_tail = True)\n",
    "        self.node_head = Node(bln_head= True, node_next= self.node_tail)\n",
    "        return \n",
    "    \n",
    "    def get(self, idx_retrieve):\n",
    "        node_return = self.node_head\n",
    "        \n",
    "        for itr in range(idx_retrieve + 1):\n",
    "            node_return = node_return.get_next()\n",
    "            \n",
    "        return node_return\n",
    "    \n",
    "    \n",
    "    def insert_at(self, obj_insert, idx_insert):\n",
    "        node_new = Node(obj_value= obj_insert)\n",
    "        node_prev = self.get(idx_insert - 1)\n",
    "        node_next = node_prev.get_next()\n",
    "        \n",
    "        node_prev.set_next(node_new)\n",
    "        node_new.set_next(node_next)\n",
    "        \n",
    "        self.size += 1\n",
    "        return\n",
    "        \n",
    "    def remove_at(self, idx_remove):\n",
    "        node_prev = self.get(idx_remove - 1)\n",
    "        node_remove = node_prev.get_next()\n",
    "        node_next = node_remove.get_next()\n",
    "        \n",
    "        node_prev.set_next(node_next)\n",
    "        \n",
    "        self.size -= 1\n",
    "        return node_remove.get_value()\n",
    "    \n",
    "    def print_status(self):\n",
    "        node_current = self.node_head\n",
    "        \n",
    "        while node_current.get_next().is_tail() == False:\n",
    "            node_current = node_current.get_next()\n",
    "            print(node_current.get_value(), end = ' ')\n",
    "        return\n",
    "    \n",
    "    \n",
    "    def get_size(self):\n",
    "        return self.size\n",
    "        "
   ]
  },
  {
   "cell_type": "code",
   "execution_count": 67,
   "metadata": {},
   "outputs": [
    {
     "name": "stdout",
     "output_type": "stream",
     "text": [
      "a b d e f "
     ]
    }
   ],
   "source": [
    "linked_list = SinglyLinkedList()\n",
    "\n",
    "linked_list.insert_at('a',0)\n",
    "linked_list.insert_at('b',1)\n",
    "linked_list.insert_at('d',2)\n",
    "linked_list.insert_at('e',3)\n",
    "linked_list.insert_at('f',4)\n",
    "\n",
    "linked_list.print_status()"
   ]
  },
  {
   "cell_type": "code",
   "execution_count": 68,
   "metadata": {},
   "outputs": [
    {
     "name": "stdout",
     "output_type": "stream",
     "text": [
      "a b c d e f "
     ]
    }
   ],
   "source": [
    "linked_list.insert_at('c',2)\n",
    "\n",
    "linked_list.print_status()"
   ]
  },
  {
   "cell_type": "code",
   "execution_count": 70,
   "metadata": {},
   "outputs": [
    {
     "name": "stdout",
     "output_type": "stream",
     "text": [
      "a b c e f "
     ]
    }
   ],
   "source": [
    "linked_list.remove_at(3)\n",
    "linked_list.print_status()"
   ]
  },
  {
   "cell_type": "code",
   "execution_count": null,
   "metadata": {},
   "outputs": [],
   "source": []
  }
 ],
 "metadata": {
  "kernelspec": {
   "display_name": "Python 3",
   "language": "python",
   "name": "python3"
  },
  "language_info": {
   "codemirror_mode": {
    "name": "ipython",
    "version": 3
   },
   "file_extension": ".py",
   "mimetype": "text/x-python",
   "name": "python",
   "nbconvert_exporter": "python",
   "pygments_lexer": "ipython3",
   "version": "3.6.4"
  }
 },
 "nbformat": 4,
 "nbformat_minor": 2
}
