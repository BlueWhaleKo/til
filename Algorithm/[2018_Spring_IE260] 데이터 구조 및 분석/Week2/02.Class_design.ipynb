{
 "cells": [
  {
   "cell_type": "markdown",
   "metadata": {},
   "source": [
    "# Polymorphism\n",
    "\n",
    "- ### Poly : many\n",
    "- ### Morph : shape\n",
    "\n",
    "## Different behavior with similar signature\n",
    "- #### Signature = Method name + Parameter list\n",
    "\n",
    "+ ### Method Overriding \n",
    "    - #### Base class has a method A(num) and its derived class has a method A(num)\n",
    "    - ##### Base Class의 메서드를 덮어씀\n",
    "\n",
    "+ ### Method Overloading\n",
    "    - #### A class has a method A(num), A(num,name) and A(num, name, home)"
   ]
  },
  {
   "cell_type": "code",
   "execution_count": 1,
   "metadata": {},
   "outputs": [],
   "source": [
    "class Building(object):\n",
    "    strAddress = 'Daejeon'\n",
    "    \n",
    "    def openDoor(self):\n",
    "        self.door_state = 'open'\n",
    "        print( \"Door Open\")\n",
    "\n",
    "class Hotel(Building):\n",
    "    \n",
    "    def openDoor(self):\n",
    "        self.door_state = 'open'\n",
    "        print('Bellboy opens a door')\n",
    "    \n",
    "    def checkIn(self, days = 1):\n",
    "        print('Someone checks in for %s days.'%days)"
   ]
  },
  {
   "cell_type": "markdown",
   "metadata": {},
   "source": [
    "<br>"
   ]
  },
  {
   "cell_type": "markdown",
   "metadata": {},
   "source": [
    "# Abstract Class\n",
    "- ### A class with an abstract method\n",
    "\n",
    "<br>\n",
    "\n",
    "## What is an abstract method?\n",
    "- ### Method with signature but with no implementation\n",
    "\n",
    "<br>\n",
    "\n",
    "## Why use it them?\n",
    "- I want to have a window here but I don't know how it will look like, but you **should** have a window here!\n",
    "\n",
    "<br>\n",
    "\n",
    "#### Abstract class is not a complete implementation, it is more like a half-made produce\n",
    "#### Therefore, you can't make an instance out of it\n",
    "\n",
    "## The concrete class with full implementation and **inheriting** the abstract class will be a basis for instances"
   ]
  },
  {
   "cell_type": "code",
   "execution_count": 10,
   "metadata": {},
   "outputs": [],
   "source": [
    "import abc\n",
    "\n",
    "class Room(metaclass = abc.ABCMeta):\n",
    "    #__metaclass__ = abc.ABCMeta\n",
    "    \n",
    "    @abc.abstractmethod\n",
    "    def openDoor(self):\n",
    "        pass\n",
    "    \n",
    "    @abc.abstractmethod\n",
    "    def openWindow(self):\n",
    "        pass\n",
    "    \n",
    "\n",
    "\n",
    "class BedRoom(Room):\n",
    "    def __init__(self):\n",
    "        self.door_state = 'close'\n",
    "        self.window_state = 'close'\n",
    "    \n",
    "    def openDoor(self):\n",
    "        print('open bedroom door')\n",
    "        self.door_state = 'open'\n",
    "    \n",
    "    def openWindow(self):\n",
    "        print('open bedroom window')\n",
    "        self.window_state = 'open'\n",
    "    "
   ]
  },
  {
   "cell_type": "markdown",
   "metadata": {},
   "source": [
    "<br>"
   ]
  },
  {
   "cell_type": "markdown",
   "metadata": {},
   "source": [
    "# Overriding Methods in *object*\n",
    "\n",
    "\n",
    "## *object* has many hidden methods\n",
    "  - ### __init__ : constructor\n",
    "  - ### __del__ : destructor\n",
    "  - ### __eq__\n",
    "  - ### __cmp__ \n",
    "  - ### __add__ \n",
    "  "
   ]
  },
  {
   "cell_type": "code",
   "execution_count": 16,
   "metadata": {},
   "outputs": [],
   "source": [
    "class Room(object):\n",
    "    num_width = 100\n",
    "    num_height = 100\n",
    "    num_Depth = 100\n",
    "    \n",
    "    def __init__(self, par_width, par_height, par_depth):\n",
    "        self.num_depth = par_depth\n",
    "        self.num_width = par_width\n",
    "        self.num_height = par_height\n",
    "        \n",
    "    def get_volume(self):\n",
    "        return self.num_depth * self.num_width * self.num_height\n",
    "    \n",
    "    def __eq__(self, other):\n",
    "        if isinstance(other, Room):\n",
    "            \n",
    "            # other : Duck Typing\n",
    "            if self.get_volume() == other.get_volume():\n",
    "                return True\n",
    "            \n",
    "        return False\n",
    "        "
   ]
  },
  {
   "cell_type": "code",
   "execution_count": 15,
   "metadata": {},
   "outputs": [
    {
     "name": "stdout",
     "output_type": "stream",
     "text": [
      "True\n"
     ]
    }
   ],
   "source": [
    "room_1 = Room(100,20,30)\n",
    "room_2 = Room(100,10,60)\n",
    "\n",
    "print(room_1 == room_2)\n",
    "# True를 리턴한다. __eq__함수가 get_volume의 리턴값을 비교하는 것으로 overriding 되었기 때문"
   ]
  },
  {
   "cell_type": "code",
   "execution_count": null,
   "metadata": {},
   "outputs": [],
   "source": []
  }
 ],
 "metadata": {
  "kernelspec": {
   "display_name": "Python 3",
   "language": "python",
   "name": "python3"
  },
  "language_info": {
   "codemirror_mode": {
    "name": "ipython",
    "version": 3
   },
   "file_extension": ".py",
   "mimetype": "text/x-python",
   "name": "python",
   "nbconvert_exporter": "python",
   "pygments_lexer": "ipython3",
   "version": "3.6.4"
  }
 },
 "nbformat": 4,
 "nbformat_minor": 2
}
