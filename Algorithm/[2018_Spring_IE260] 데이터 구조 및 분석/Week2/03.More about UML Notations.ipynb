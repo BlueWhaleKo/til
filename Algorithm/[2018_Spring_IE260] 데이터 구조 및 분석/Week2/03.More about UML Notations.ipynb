{
 "cells": [
  {
   "cell_type": "markdown",
   "metadata": {},
   "source": [
    "# More about UML Notation\n",
    "\n",
    "## Class Diagram"
   ]
  },
  {
   "cell_type": "markdown",
   "metadata": {},
   "source": [
    "<br>"
   ]
  },
  {
   "cell_type": "markdown",
   "metadata": {},
   "source": [
    "## UML notation : Class and Instance (one more time)\n",
    "\n",
    "<img src = 'UML_notation.png'>"
   ]
  },
  {
   "cell_type": "markdown",
   "metadata": {},
   "source": [
    "<br>\n",
    "\n",
    "# Structure of Classes in Class Diagram"
   ]
  },
  {
   "cell_type": "markdown",
   "metadata": {},
   "source": [
    "<img src = 'Class_diagram.png'>"
   ]
  },
  {
   "cell_type": "markdown",
   "metadata": {},
   "source": [
    "# ★ Generalizeation :(specific to general)\n",
    "\n",
    "- ### is-a relationship\n",
    "- ### Inheritance relationship\n",
    "- ### Customer -> person\n",
    "    - #### From subclass\n",
    "    - #### To superclass\n",
    "    - ### Direction of generalization\n",
    "    \n",
    "- ### Hollow triangle shape\n",
    "\n",
    "<br>\n",
    "\n",
    "## Base class\n",
    "   - ### person\n",
    "\n",
    "## Leaf class\n",
    "   - ### Park::customer"
   ]
  },
  {
   "cell_type": "markdown",
   "metadata": {},
   "source": [
    "<br>"
   ]
  },
  {
   "cell_type": "markdown",
   "metadata": {},
   "source": [
    "# ★ Association\n",
    "- ## has-a relationship : multiplicity\n",
    "- ## Member variable\n",
    "   - #### A custmoer has a number of holding accounts\n",
    "   - #### An account has an account holder customer\n",
    "   \n",
    "- ## Simple line\n",
    "\n",
    "<br>\n",
    "\n",
    "## if a simple arrow is added\n",
    "   - #### A customer has a reference to bank accounts\n",
    "   - #### a bank account has a reference to a customer\n",
    "   - #### Navigability"
   ]
  },
  {
   "cell_type": "code",
   "execution_count": 19,
   "metadata": {},
   "outputs": [],
   "source": [
    "class Customer:\n",
    "    \n",
    "    def __init__(self,ID):\n",
    "        self.ID = ID\n",
    "        self.ls_account = []\n",
    "    \n",
    "    def addBankAccount(self, account):\n",
    "        account.changeAccountHolder(self.ID)\n",
    "        self.ls_account.append(account)\n",
    "        \n",
    "        \n",
    "class BankAccount:\n",
    "    strAccountHolder = 'No one'\n",
    "    \n",
    "    def changeAccountHolder(self,holder):\n",
    "        self.strAccountHolder = holder"
   ]
  },
  {
   "cell_type": "code",
   "execution_count": 18,
   "metadata": {},
   "outputs": [],
   "source": [
    "customer = Customer('Tom')\n",
    "account = BankAccount()\n",
    "\n",
    "customer.addBankAccount(account)\n",
    "\n",
    "for account in customer.ls_account:\n",
    "    print(account.strAccountHolder)"
   ]
  },
  {
   "cell_type": "markdown",
   "metadata": {},
   "source": [
    "<br>"
   ]
  },
  {
   "cell_type": "markdown",
   "metadata": {},
   "source": [
    "# Multiplicity of Association\n",
    "\n",
    "## In computer science and engineering\n",
    "\n",
    "- ### * often means many\n",
    "- ### Hence,\n",
    "  - #### 1... * : 1  to many\n",
    "  - #### * : 0 to many"
   ]
  },
  {
   "cell_type": "markdown",
   "metadata": {},
   "source": [
    "<br>"
   ]
  },
  {
   "cell_type": "markdown",
   "metadata": {},
   "source": [
    "# ★ Aggregation\n",
    "\n",
    "- ## Special case of association\n",
    "- ## More like, part-whole or part-of relationship\n",
    "- ## A family member is a part of a family\n",
    "  - ### **The existence of the family depends on the aggregation of the family member**\n",
    "  - ### **No Family member means Not a family exits**\n",
    "  \n",
    "<br>\n",
    "\n",
    "- ## Hollow diamond shape\n",
    "  - ### when an aggregating class is a collection class"
   ]
  },
  {
   "cell_type": "markdown",
   "metadata": {},
   "source": [
    "<br>"
   ]
  },
  {
   "cell_type": "markdown",
   "metadata": {},
   "source": [
    "# ★ Dependency\n",
    "\n",
    "- ## use relationship\n",
    "- ## ex: An engineer uses a calculator\n",
    "  - ### Not saved, only used temporarily"
   ]
  },
  {
   "cell_type": "markdown",
   "metadata": {},
   "source": [
    " "
   ]
  },
  {
   "cell_type": "markdown",
   "metadata": {},
   "source": [
    " "
   ]
  },
  {
   "cell_type": "markdown",
   "metadata": {},
   "source": [
    "# Practice!"
   ]
  },
  {
   "cell_type": "markdown",
   "metadata": {},
   "source": [
    "<img src = 'Practice.png'>"
   ]
  },
  {
   "cell_type": "markdown",
   "metadata": {},
   "source": [
    "### A Customer has 2 attribues (name, address)\n",
    "\n",
    "### Customer has * orders and each order belongs to one customer (association)\n",
    "   - an order has 2 attributes and 3 methods\n",
    "  "
   ]
  },
  {
   "cell_type": "code",
   "execution_count": null,
   "metadata": {},
   "outputs": [],
   "source": []
  }
 ],
 "metadata": {
  "kernelspec": {
   "display_name": "Python 3",
   "language": "python",
   "name": "python3"
  },
  "language_info": {
   "codemirror_mode": {
    "name": "ipython",
    "version": 3
   },
   "file_extension": ".py",
   "mimetype": "text/x-python",
   "name": "python",
   "nbconvert_exporter": "python",
   "pygments_lexer": "ipython3",
   "version": "3.6.4"
  }
 },
 "nbformat": 4,
 "nbformat_minor": 2
}
