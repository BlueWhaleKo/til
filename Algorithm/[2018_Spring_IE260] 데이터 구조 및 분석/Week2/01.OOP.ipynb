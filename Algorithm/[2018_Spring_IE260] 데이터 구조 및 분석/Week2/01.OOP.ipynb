{
 "cells": [
  {
   "cell_type": "markdown",
   "metadata": {},
   "source": [
    "# Software Design"
   ]
  },
  {
   "cell_type": "markdown",
   "metadata": {},
   "source": [
    "## UML notation : Class and Instance\n",
    "\n",
    "<br/>\n",
    "\n",
    "##     Park::Customer\n",
    "\n",
    "### Visibility Option\n",
    "*  +: Publict\n",
    "*  #: protected\n",
    "*  -: private\n",
    "***\n",
    "*  -ID : String\n",
    "*  #AccountNum : Integer\n",
    "*  +Name : String = Hey\n",
    "***\n",
    "*  +login() : void\n",
    "*  +requestWithdrawal() : Boolean\n",
    "*  +confirmSecurityCard() : Boolean"
   ]
  },
  {
   "cell_type": "markdown",
   "metadata": {},
   "source": [
    " "
   ]
  },
  {
   "cell_type": "markdown",
   "metadata": {},
   "source": [
    " "
   ]
  },
  {
   "cell_type": "markdown",
   "metadata": {},
   "source": [
    "# Encapsulation\n",
    "\n",
    "<br>\n",
    "\n",
    "### Object = Data + Behavior\n",
    "- #### Data : member, variable, attribute\n",
    "- #### Behavior : method, member function, operation\n",
    "\n",
    "<br> \n",
    "\n",
    "### Delegating the implementation responsibility!\n",
    "- #### Bring me a sausage, and I don't care how you made it\n",
    "\n",
    "<br>\n",
    "\n",
    "### Utilizing the visibility\n",
    "- #### private : seen only within the class\n",
    "- #### protected : seen only within the class and its descendants\n",
    "- #### public : seen everywhere\n",
    "\n",
    "### Python does not support the visibility options!\n",
    "\n",
    "<br>"
   ]
  },
  {
   "cell_type": "markdown",
   "metadata": {},
   "source": [
    "# Inheritance\n",
    "+ ### Giving my attributes to my descendants\n",
    "  - ### My attributes include\n",
    "    - #### member variable\n",
    "    - #### Methods\n",
    "\n",
    "<br>\n",
    "\n",
    "+ ### My descendatns may have new attributes of their own   \n",
    "  - #### 부모 클래스와는 다른 자신만의 형질을 갖는다\n",
    "+ ### My descendants may mask the received attributes  \n",
    "  - #### '부모 클래스에 있는 형질과 변형된 형질을 갖는다' \n",
    "  \n",
    "<br>\n",
    "\n",
    "+ ### SuperClass\n",
    "  - #### My ancestors, specifically my father\n",
    "  - #### Generalized from the conceptual view\n",
    "  \n",
    "+ ### Subclass\n",
    "  - #### "
   ]
  },
  {
   "cell_type": "code",
   "execution_count": 13,
   "metadata": {},
   "outputs": [],
   "source": [
    "class Father(object):\n",
    "    strHometown = 'Jeju'\n",
    "    \n",
    "    def __init__(self):\n",
    "        print('Father is created')\n",
    "    def doFatherThing(self):\n",
    "        print(\"Father's action\")\n",
    "    def doRunning(self):\n",
    "        print('slow')\n",
    "        \n",
    "class Mother(object):\n",
    "    strHometown = 'Seoul'\n",
    "    \n",
    "    def __init__(self):\n",
    "        print('Mother created')\n",
    "    def doMotherThing(self):\n",
    "        print(\"Mother's action\")\n",
    "        \n",
    "class Child(Father, Mother):\n",
    "    strName = 'Moon'\n",
    "    \n",
    "    def __init__(self):\n",
    "        super(Child,self).__init__()\n",
    "        print('Child is created')\n",
    "    def doRunning(self):\n",
    "        print('Fast')"
   ]
  },
  {
   "cell_type": "code",
   "execution_count": 7,
   "metadata": {},
   "outputs": [
    {
     "name": "stdout",
     "output_type": "stream",
     "text": [
      "Father is created\n",
      "Child is created\n"
     ]
    }
   ],
   "source": [
    "me = Child()"
   ]
  },
  {
   "cell_type": "code",
   "execution_count": 8,
   "metadata": {},
   "outputs": [
    {
     "name": "stdout",
     "output_type": "stream",
     "text": [
      "Father's action\n"
     ]
    }
   ],
   "source": [
    "me.doFatherThing()"
   ]
  },
  {
   "cell_type": "code",
   "execution_count": 9,
   "metadata": {},
   "outputs": [
    {
     "name": "stdout",
     "output_type": "stream",
     "text": [
      "Mother's action\n"
     ]
    }
   ],
   "source": [
    "me.doMotherThing()"
   ]
  },
  {
   "cell_type": "code",
   "execution_count": 10,
   "metadata": {},
   "outputs": [
    {
     "name": "stdout",
     "output_type": "stream",
     "text": [
      "Fast\n"
     ]
    }
   ],
   "source": [
    "me.doRunning()"
   ]
  },
  {
   "cell_type": "code",
   "execution_count": 11,
   "metadata": {},
   "outputs": [
    {
     "name": "stdout",
     "output_type": "stream",
     "text": [
      "Jeju\n"
     ]
    }
   ],
   "source": [
    "print(me.strHometown)"
   ]
  },
  {
   "cell_type": "code",
   "execution_count": 12,
   "metadata": {},
   "outputs": [
    {
     "name": "stdout",
     "output_type": "stream",
     "text": [
      "Moon\n"
     ]
    }
   ],
   "source": [
    "print(me.strName)"
   ]
  },
  {
   "cell_type": "code",
   "execution_count": null,
   "metadata": {},
   "outputs": [],
   "source": []
  }
 ],
 "metadata": {
  "kernelspec": {
   "display_name": "Python 3",
   "language": "python",
   "name": "python3"
  },
  "language_info": {
   "codemirror_mode": {
    "name": "ipython",
    "version": 3
   },
   "file_extension": ".py",
   "mimetype": "text/x-python",
   "name": "python",
   "nbconvert_exporter": "python",
   "pygments_lexer": "ipython3",
   "version": "3.6.4"
  }
 },
 "nbformat": 4,
 "nbformat_minor": 2
}
