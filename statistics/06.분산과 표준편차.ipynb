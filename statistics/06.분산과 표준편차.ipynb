{
 "cells": [
  {
   "cell_type": "markdown",
   "metadata": {},
   "source": [
    "출처: https://datascienceschool.net/view-notebook/b9dcd289a49546ffacfdc5f5bc9a2fc0/"
   ]
  },
  {
   "cell_type": "markdown",
   "metadata": {},
   "source": [
    "# **분산과 표준편차**"
   ]
  },
  {
   "cell_type": "markdown",
   "metadata": {},
   "source": [
    "## **확률분포의 분산**"
   ]
  },
  {
   "cell_type": "markdown",
   "metadata": {},
   "source": [
    "확률밀도함수  $p(x)$ 의 수식을 알고 있다면 다음처럼 이론적인 분산을 구할 수 있다. 분산을 구하는 연산자는 영어 Variance를 따서  $Var[]$ 로 표기하고 이 연산자로 계산된 분산값은  $\\sigma^2$ 으로 표기한다.\n",
    "\n",
    "$\\sigma^2 = \\text{Var}[X] = \\text{E}[(X - \\mu)^2]$"
   ]
  },
  {
   "cell_type": "markdown",
   "metadata": {},
   "source": [
    "이산확률변수의 분산은 평균으로부터 표본까지 거리의 제곱을 확률질량함수  $P(x)$ 로 가중평균한 값이다."
   ]
  },
  {
   "cell_type": "markdown",
   "metadata": {},
   "source": [
    "$\\sigma^2 = \\text{Var}[X] = \\text{E}[(X - \\mu)^2] =  \\sum_{x_i \\in \\Omega} (x_i - \\mu)^2 P(x_i)$"
   ]
  },
  {
   "cell_type": "markdown",
   "metadata": {},
   "source": [
    "연속확률변수의 분산은 평균으로부터 표본까지 거리의 제곱을 확률밀도함수  $p(x)$ 로 가중하여 적분한 값이다."
   ]
  },
  {
   "cell_type": "markdown",
   "metadata": {},
   "source": [
    "$\\sigma^2 = \\text{Var}[X] = \\text{E}[(X - \\mu)^2] = \\int_{-\\infty}^{\\infty} (x - \\mu)^2 p(x)dx$"
   ]
  },
  {
   "cell_type": "markdown",
   "metadata": {},
   "source": [
    "---"
   ]
  },
  {
   "cell_type": "markdown",
   "metadata": {},
   "source": [
    "## **분산의 성질**"
   ]
  },
  {
   "cell_type": "markdown",
   "metadata": {},
   "source": [
    "분산은 다음과 같은 성질을 만족한다.\n",
    "\n",
    "- 항상 0 또는 양수\n",
    "\n",
    "   - $ \\text{Var}[X] \\geq 0 $\n",
    "   \n",
    "- 확률변수가 아닌 상수 값  c 에 대해\n",
    "   - $ \\text{Var}[c] = 0 $\n",
    "   - $ \\text{Var}[cX] = c^2 \\text{Var}[X] $\n",
    "   \n",
    "또한 기댓값의 성질을 이용하여 다음 성질을 증명할 수 있다.\n",
    "\n",
    "#### $ \\text{Var}[X] = \\text{E}[X^2] - (\\text{E}[X])^2  = \\text{E}[X^2] - \\mu^2 $"
   ]
  },
  {
   "cell_type": "markdown",
   "metadata": {},
   "source": [
    "---"
   ]
  },
  {
   "cell_type": "markdown",
   "metadata": {},
   "source": [
    "## **두 확률변수의 합의 분산**"
   ]
  },
  {
   "cell_type": "markdown",
   "metadata": {},
   "source": [
    "두 확률변수  $X$ ,  $Y$ 의 합의 분산은 각 확률변수의 분산의 합과 다음과 같은 관계가 있다. \n",
    "\n",
    "#### $ \\text{Var}\\left[ X + Y \\right] =\n",
    "\\text{Var}\\left[ X \\right] + \\text{Var}\\left[ Y \\right]+ 2\\text{E}\\left[ (X-\\mu_X)(Y-\\mu_Y) \\right] $\n",
    "\n",
    "$ Cov(X,Y) =  \\text{E}\\left[ (X-\\mu_X)(Y-\\mu_Y) \\right]$"
   ]
  },
  {
   "cell_type": "markdown",
   "metadata": {},
   "source": [
    "증명\n",
    "\n",
    "#### $ \\begin{eqnarray}\n",
    "\\text{Var}\\left[ X + Y \\right] \n",
    "&=& \\text{E}\\left[ (X + Y - (\\mu_X + \\mu_Y))^2 \\right] \\\\\n",
    "&=& \\text{E}\\left[ ((X -\\mu_X) + (Y - \\mu_Y))^2 \\right] \\\\\n",
    "&=& \\text{E}\\left[ (X -\\mu_X)^2 + (Y - \\mu_Y)^2 + 2(X-\\mu_X)(Y-\\mu_Y) \\right] \\\\\n",
    "&=& \\text{E}\\left[ (X -\\mu_X)^2 \\right] + \\text{E}\\left[ (Y - \\mu_Y)^2 \\right] + 2\\text{E}\\left[ (X-\\mu_X)(Y-\\mu_Y) \\right] \n",
    "\\end{eqnarray} $"
   ]
  },
  {
   "cell_type": "markdown",
   "metadata": {},
   "source": [
    " "
   ]
  },
  {
   "cell_type": "markdown",
   "metadata": {},
   "source": [
    "두 확률변수  $X ,  Y$ 가 서로 독립이면 다음 식이 성립한다.\n",
    "\n",
    "$ Cov(X,Y) = \\text{E}\\left[ (X-\\mu_X)(Y-\\mu_Y) \\right] = 0$"
   ]
  },
  {
   "cell_type": "markdown",
   "metadata": {},
   "source": [
    "왜 이 등식이 성립하는가는 추후 설명하기로 한다. 이 등식을 이용하면 **서로 독립인 두 확률변수의 합의 분산은 각 확률변수의 분산의 합과 같다는 것을 보일 수 있다.**"
   ]
  },
  {
   "cell_type": "markdown",
   "metadata": {},
   "source": [
    "$ \\text{Var}\\left[ X + Y \\right] =  \\text{Var}\\left[ X \\right] + \\text{Var}\\left[ Y \\right] $"
   ]
  }
 ],
 "metadata": {
  "kernelspec": {
   "display_name": "Python 3",
   "language": "python",
   "name": "python3"
  },
  "language_info": {
   "codemirror_mode": {
    "name": "ipython",
    "version": 3
   },
   "file_extension": ".py",
   "mimetype": "text/x-python",
   "name": "python",
   "nbconvert_exporter": "python",
   "pygments_lexer": "ipython3",
   "version": "3.6.4"
  }
 },
 "nbformat": 4,
 "nbformat_minor": 2
}
