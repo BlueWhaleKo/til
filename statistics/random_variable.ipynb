{
 "cells": [
  {
   "cell_type": "markdown",
   "metadata": {},
   "source": [
    "# **확률 변수**\n",
    "\n",
    "확률 변수(random variable)란 특정 확률분포(probability distribution)와 연관되어 있는 변수를 의미한다.\n",
    "\n",
    "굉장히 간단하게 동전의 앞면이 나오면 1이고 동전의 뒷면이 나오면 0인 확률변수를 예시로 들 수 있다.\n",
    "\n",
    "조금 더 복잡한 확률변수의 예로 동전을 10번 던져서 나온 앞면의 개수나 range(10)에서 나온 값을 생각해 볼 수 있다.\n",
    "\n",
    " \n",
    "\n",
    "확률변수와 연관된 확률분포는 각 변수의 값에 해당되는 확률 값을 계산해준다.\n",
    "\n",
    "모든 확률 변수의 확률을 해당 확률변수의 값으로 가중평균한 값인 확률변수의 **기댓값** 역시 자주 쓰이는 개념이다.\n",
    "\n",
    "\n",
    "\n",
    "확률변수 또한 보통 사건처럼 조건부 확률을 구할 수 있다.\n",
    "\n",
    "조건부 확률 부분에서 다루었던 두 아이의 성별을 구분하는 예시로 돌아가 보자.\n",
    "\n",
    "<br>\n",
    "\n",
    "**만약 X라는 확률 변수가 딸의 수를 나타낸다면**\n",
    "\n",
    "X가 0일 확률은 1/4\n",
    "\n",
    "X가 1일 확률은 1/2\n",
    "\n",
    "X가 2일 확률은 1/4 이다.\n",
    "\n",
    "<br>\n",
    "\n",
    "그리고 **새로운 확률변수 Y로, 딸이 최소 한 명일 때, 전체 딸의 수를 나타낸다면**\n",
    "\n",
    "Y가 1일 확률은 2/3이며\n",
    "\n",
    "Y가 2일 확률은 1/3이다.\n",
    "\n",
    "<br>\n",
    "\n",
    "또한, **Z로 첫째가 딸일 때, 전체 딸의 수를 나타낸다면,**\n",
    "\n",
    "Z가 1일 확률은 1/2 이며,\n",
    "\n",
    "Z가 2일 확률은 1/2 이다.\n",
    "\n",
    "# **연속 분포**\n",
    "\n",
    "대부분의 경우, 연속적인 결과에 대한 분포를 사용해서 모델을 만들 것이다.\n",
    "\n",
    "예를 들어, 균등 분포(uniform distribution)는 0과 1 사이의 모든 값에 동등한 비중을 준 분포이다.\n",
    "\n",
    "\n",
    " \n",
    "\n",
    "확률 변수의 값이 특정 범위 내에 있을 확률은 밀도함수를 특정 구간에서 적분한 값으로 확률을 나타내는\n",
    "\n",
    "확률밀도함수(probability density function, pdf)로 연속분포를 표현한다.\n",
    "\n",
    "특정 값보다 작거나 클 확률은 누적분포함수(cumulative distiribution function, cdf)를 사용한다.\n",
    "\n",
    "\n",
    "\n",
    "## 정규분포는 생략"
   ]
  },
  {
   "cell_type": "markdown",
   "metadata": {},
   "source": [
    " "
   ]
  },
  {
   "cell_type": "markdown",
   "metadata": {},
   "source": [
    "# **감마 분포**"
   ]
  },
  {
   "cell_type": "markdown",
   "metadata": {},
   "source": [
    "- https://datascienceschool.net/view-notebook/1507654ffe9c4174b5d971e6f0efc84c/\n",
    "- https://ko.wikipedia.org/wiki/%EA%B0%90%EB%A7%88_%EB%B6%84%ED%8F%AC"
   ]
  },
  {
   "cell_type": "markdown",
   "metadata": {},
   "source": [
    "감마 분포(Gamma distribution)도 베타 분포(Beta distribution)처럼 모수의 베이지안 추정에 사용된다. \n",
    "\n",
    "다만 베타 분포가 0부터 1사이의 값을 가지는 모수를 베이지안 방법으로 추정하는데 사용되는 것과 달리 감마 분포는 0부터 무한대의 값을 가지는 양수 값을 추정하는데 사용된다.\n"
   ]
  },
  {
   "cell_type": "markdown",
   "metadata": {},
   "source": [
    " "
   ]
  },
  {
   "cell_type": "markdown",
   "metadata": {},
   "source": [
    "\n",
    "#### 확률변수  ${\\displaystyle X_{1},\\cdots ,X_{n}} {\\displaystyle X_{1},\\cdots ,X_{n}}$ 가 독립이며 각각 ${\\displaystyle X_{i}\\sim \\mathrm {Gamma} (k_{i},\\theta )}$ 의 분포를 가진다면, \n",
    "\n",
    "#### 확률변수들의 합은 다음과 같은 분포를 따른다.\n",
    "\n",
    "#### $  {\\displaystyle \\sum _{i}X_{i}\\sim \\mathrm {Gamma} (\\sum _{i}k_{i},\\theta )}$\n",
    "\n",
    "<br> \n",
    "\n",
    "${\\displaystyle X\\sim \\mathrm {Gamma} (k,\\theta )} $인 확률변수 ${\\displaystyle X}$ 에 상수를 곱한 경우는 크기 매개변수($\\theta$) 에 영향 을 준다.\n",
    "\n",
    "#### ${\\displaystyle cX\\sim \\mathrm {Gamma} (k,c\\theta )}$"
   ]
  },
  {
   "cell_type": "markdown",
   "metadata": {},
   "source": [
    " "
   ]
  },
  {
   "cell_type": "markdown",
   "metadata": {},
   "source": [
    "### **다른 분포와의 관계**\n",
    "\n",
    "모양 매개변수 {\\displaystyle k} k가 정수인 경우 얼랑 분포에 포함된다.\n",
    "\n",
    "${\\displaystyle k=1,\\theta =1/\\lambda } $는 지수 분포가 된다.\n",
    "\n",
    "${\\displaystyle k=\\nu /2}$, ${\\theta =2}$는 카이제곱 분포가 된다. 이 때 자유도는 ${\\displaystyle \\nu } $ 이다."
   ]
  },
  {
   "cell_type": "markdown",
   "metadata": {},
   "source": [
    "<br>"
   ]
  },
  {
   "cell_type": "markdown",
   "metadata": {},
   "source": [
    "# **베타분포**\n",
    "\n",
    "- https://datascienceschool.net/view-notebook/70a372b9c14a4e8d9d49737f0b5a3c97/"
   ]
  },
  {
   "cell_type": "markdown",
   "metadata": {},
   "source": [
    "베타 분포(Beta distribution)는 다른 확률 분포와 달리 자연계에 존재하는 데이터의 분포를 묘사하는 것 뿐 아니라,\n",
    "\n",
    "### **다른 확률분포함수의 모수(사전확률)를 베이지안 추정(Bayesian estimation)한 결과를 표현하기 위해 사용된다.**\n",
    "\n",
    "베이지안 추정은 모수가 가질 수 있는 모든 값에 대해 가능성을 확률분포로 나타낸 것을 말한다. 베이지안 추정에 대해서는 추후 다시 다룬다."
   ]
  },
  {
   "cell_type": "markdown",
   "metadata": {},
   "source": [
    " "
   ]
  },
  {
   "cell_type": "markdown",
   "metadata": {},
   "source": [
    "베타 분포는  a 와  b 라는 두 개의 모수를 가지며 표본 공간은 0과 1사이의 실수이다. 즉 0와 1사이의 표본값만 가질 수 있다.\n",
    "\n"
   ]
  },
  {
   "cell_type": "markdown",
   "metadata": {},
   "source": [
    "#### $ Beta(x;a,b),0≤x≤1 $"
   ]
  },
  {
   "cell_type": "markdown",
   "metadata": {},
   "source": [
    " "
   ]
  },
  {
   "cell_type": "markdown",
   "metadata": {},
   "source": [
    "### **베타 분포의 확률밀도함수는 다음과 같다.**"
   ]
  },
  {
   "cell_type": "markdown",
   "metadata": {},
   "source": [
    "## $ Beta(x;a,b)={Γ(a+b) \\over Γ(a)Γ(b)}x^{a−1} (1−x)^{b−1} $"
   ]
  },
  {
   "cell_type": "markdown",
   "metadata": {},
   "source": [
    "## = $\\frac{1}{\\mathrm{B}(a,b)}\\, x^{a-1}(1-x)^{b-1}$"
   ]
  },
  {
   "cell_type": "markdown",
   "metadata": {},
   "source": [
    "##    = $\\frac{x^{a-1}(1-x)^{b-1}}{\\int_0^1 u^{a-1} (1-u)^{b-1}\\, du}$"
   ]
  },
  {
   "cell_type": "markdown",
   "metadata": {},
   "source": [
    "### **기댓값**\n",
    " + ### $E[X]= {a \\over b}$"
   ]
  },
  {
   "cell_type": "markdown",
   "metadata": {},
   "source": [
    "### **최빈값**\n",
    " + ## $ {a−1 \\over a+b−2}$"
   ]
  },
  {
   "cell_type": "code",
   "execution_count": null,
   "metadata": {},
   "outputs": [],
   "source": []
  }
 ],
 "metadata": {
  "kernelspec": {
   "display_name": "Python 3",
   "language": "python",
   "name": "python3"
  },
  "language_info": {
   "codemirror_mode": {
    "name": "ipython",
    "version": 3
   },
   "file_extension": ".py",
   "mimetype": "text/x-python",
   "name": "python",
   "nbconvert_exporter": "python",
   "pygments_lexer": "ipython3",
   "version": "3.6.4"
  }
 },
 "nbformat": 4,
 "nbformat_minor": 2
}
