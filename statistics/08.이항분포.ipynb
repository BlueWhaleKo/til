{
 "cells": [
  {
   "cell_type": "markdown",
   "metadata": {},
   "source": [
    "출처 : https://datascienceschool.net/view-notebook/ddb0f7906b6146e09f5c1e633b4fbe3a/"
   ]
  },
  {
   "cell_type": "markdown",
   "metadata": {},
   "source": [
    "# **이항분포**"
   ]
  },
  {
   "cell_type": "markdown",
   "metadata": {},
   "source": [
    "성공확률이  $\\mu$  인 베르누이 시도를  $N$ 번 반복하는 경우를 생각해 보자. 가장 운이 좋을 때에는  $N$ 번 모두 성공할 것이고 가장 운이 나쁜 경우에는 한 번도 성공하지 못할 겻이다.  $N$ 번 중 성공한 횟수를 확률변수  $X$  라고 한다면  $X$ 의 값은 0 부터  $N$  까지의 정수 중 하나가 될 것이다.\n",
    "\n",
    "이러한 확률변수를 **이항 분포(binomial distribution)를 따르는 확률변수**라고 하며 다음과 같이 표시한다.\n",
    "\n",
    "### $ X \\sim \\text{Bin}(x;N,\\mu) $"
   ]
  },
  {
   "cell_type": "markdown",
   "metadata": {},
   "source": [
    "이항 분포 확률변수  $X$ 의 확률질량함수(pdf)를 구해보자. 우선 베르누이 확률 분포를 따르는 확률변수  $Y$ 를 가정한다. "
   ]
  },
  {
   "cell_type": "markdown",
   "metadata": {},
   "source": [
    "### $ Y \\sim \\text{Bern}(y;\\mu) $"
   ]
  },
  {
   "cell_type": "markdown",
   "metadata": {},
   "source": [
    "이 확률변수의 $N$ 개의 표본을  $y_1, y_2$...$y_N$ 라고 하자. 이 값은 모두 0(실패) 아니면 1(성공) 이라는 값을 가지기 때문에  $N$ 번 중 성공한 횟수는  $N$ 개의 표본 값의 합(sum)이다."
   ]
  },
  {
   "cell_type": "markdown",
   "metadata": {},
   "source": [
    "### $x = \\sum_{i=1}^N y_i$"
   ]
  },
  {
   "cell_type": "markdown",
   "metadata": {},
   "source": [
    "베르누이 분포를 따르는 확률변수  $Y$ 의 확률질량함수를 대입하여 정리하면 이항 분포 확률변수  $X$ 의 확률질량함수는 다음과 같아진다."
   ]
  },
  {
   "cell_type": "markdown",
   "metadata": {},
   "source": [
    "### $\\text{Bin}(x;N,\\mu) = \\binom N x  \\mu^x(1-\\mu)^{N-x}$"
   ]
  },
  {
   "cell_type": "markdown",
   "metadata": {},
   "source": [
    "이 식에서 $\\binom N x$ 기호는 조합(combination)이라는 기호로  N 개의 원소 중에  x 개의 원소를 순서와 상관없이 선택할 수 있는 경우의 수를 뜻한다. 조합은 다음 공식으로 계산할 수 있다.\n",
    "\n",
    "### $\\binom N x =\\dfrac{N!}{x!(N-x)!}$\n",
    "\n",
    "기호는 팩토리얼(factorial)이라고 하며 다음처럼 정의한다.\n",
    "\n",
    "### $ N! = N\\cdot (N-1) \\cdots 2 \\cdot 1 $"
   ]
  },
  {
   "cell_type": "markdown",
   "metadata": {},
   "source": [
    "---"
   ]
  },
  {
   "cell_type": "markdown",
   "metadata": {},
   "source": [
    "## **이항 분포의 모멘트**\n",
    "\n",
    "이항 분포의 기댓값과 분산은 각각 다음과 같다.\n",
    "\n",
    "### **기댓값**\n",
    "\n",
    "$\\text{E}[X] = N\\mu$\n",
    "\n",
    "(증명)\n",
    "\n",
    "#### $\\text{E}[X] = \\text{E} \\left[ \\sum_{i=1}^N Y_i \\right] = \\sum_{i=1}^N  \\text{E}[ Y_i ] = N\\mu$\n"
   ]
  },
  {
   "cell_type": "markdown",
   "metadata": {},
   "source": [
    "### **분산**\n",
    "\n",
    "$\\text{Var}[X] = N\\mu(1-\\mu)$"
   ]
  },
  {
   "cell_type": "code",
   "execution_count": null,
   "metadata": {},
   "outputs": [],
   "source": []
  }
 ],
 "metadata": {
  "kernelspec": {
   "display_name": "Python 3",
   "language": "python",
   "name": "python3"
  },
  "language_info": {
   "codemirror_mode": {
    "name": "ipython",
    "version": 3
   },
   "file_extension": ".py",
   "mimetype": "text/x-python",
   "name": "python",
   "nbconvert_exporter": "python",
   "pygments_lexer": "ipython3",
   "version": "3.6.4"
  }
 },
 "nbformat": 4,
 "nbformat_minor": 2
}
