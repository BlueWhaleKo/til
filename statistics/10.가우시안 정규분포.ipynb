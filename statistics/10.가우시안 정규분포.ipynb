{
 "cells": [
  {
   "cell_type": "markdown",
   "metadata": {},
   "source": [
    "출처 : https://datascienceschool.net/view-notebook/76acc92d28354e86940001f9fe85c50f/"
   ]
  },
  {
   "cell_type": "markdown",
   "metadata": {},
   "source": [
    "# **가우시안 정규분포**"
   ]
  },
  {
   "cell_type": "markdown",
   "metadata": {},
   "source": [
    "가우시안 정규 분포(Gaussian normal distribution) 혹은 간단히 정규 분포(normal distribution)라고 하는 분포는 자연 현상에서 나타나는 숫자를 확률 모형으로 모형화할 때 많이 사용한다.\n",
    "\n",
    "정규 분포는 평균  $\\mu$ 와 분산  $\\sigma^2$  이라는 두 개의 모수만으로 정의되며 확률밀도함수(pdf: probability density function)는 다음과 같은 수식으로 표현된다."
   ]
  },
  {
   "cell_type": "markdown",
   "metadata": {},
   "source": [
    "$\\mathcal{N}(x; \\mu, \\sigma^2) = \\dfrac{1}{\\sqrt{2\\pi\\sigma^2}} \\exp \\left(-\\dfrac{(x-\\mu)^2}{2\\sigma^2}\\right)$"
   ]
  },
  {
   "cell_type": "markdown",
   "metadata": {},
   "source": [
    "분산의 역수를 정밀도(precision) $\\beta$라고 부르기도 한다.\n",
    "\n",
    "$\\beta = \\dfrac{1}{\\sigma^2}$"
   ]
  },
  {
   "cell_type": "markdown",
   "metadata": {},
   "source": [
    "정규 분포 중에서도 평균이 0 이고 분산이 1 인 ( $\\mu$=0 ,  $\\sigma^2$=1 ) 정규 분포를 표준 정규 분포(standard normal distribution)라고 한다.\n",
    "\n",
    "정규 분포의 확률밀도함수는 다음과 같은 성질을 가진다.\n",
    " - $ x = \\mu$일때 확률밀도가 최대가 된다.\n",
    " - $ x=\\infty$로 근접하거나 $X= -\\infty$로 근접할 때 확률밀도가 작아진다"
   ]
  },
  {
   "cell_type": "markdown",
   "metadata": {},
   "source": [
    "---"
   ]
  },
  {
   "cell_type": "markdown",
   "metadata": {},
   "source": [
    "## **Q-Q 플롯**"
   ]
  },
  {
   "cell_type": "markdown",
   "metadata": {},
   "source": [
    "정규 분포는 여러가지 연속확률분포 중에서도 가장 널리 사용되는 확률 분포이다. 어떤 확률변수의 분포가 정규 분포인지 아닌지 확인하는 정규 분포 검정(normality test)은 가장 중요한 통계적 분석 중의 하나이다.\n",
    "\n",
    "Q-Q(Quantile-Quantile) 플롯은 분석하고자 하는 표본 데이터의 분포와 정규 분포의 분포 형태를 비교하여 표본 데이터가 정규 분포를 따르는지 검사하는 간단한 시각적 도구이다. Q-Q 플롯은 동일 분위수에 해당하는 정상 분포의 값과 주어진 데이터의 값을 한 쌍으로 만들어 그린 스캐터 플롯(scatter plot)이다."
   ]
  },
  {
   "cell_type": "markdown",
   "metadata": {},
   "source": [
    "---"
   ]
  },
  {
   "cell_type": "markdown",
   "metadata": {},
   "source": [
    "## **중심 극한 정리**"
   ]
  },
  {
   "cell_type": "markdown",
   "metadata": {},
   "source": [
    "실세계에서 발생하는 현상 중 많은 것들이 정규 분포로 모형화 가능하다. 그 이유 중의 하나는 다음과 같은 중심 극한 정리(Central Limit Theorem)이다. 중심 극한 정리는 여러 확률 변수의 합이 정규 분포와 비슷한 분포를 이루는 현상을 말한다. 중심 극한 정리를 수학적인 용어로 쓰면 다음과 같다.\n",
    "\n",
    "$X_1, X_2, \\ldots, X_N$가 기댓값은 $\\mu$이고 분산은 $\\sigma^2$으로 동일한 분포이며 서로 독립인 확률변수들이라고 하자. 분포가 어떤 분포인지는 상관 없다.\n",
    "\n",
    "$X_1, X_2, \\ldots, X_N$에서 뽑은 각각의 표본 데이터 $x_1, x_2, \\ldots, x_N$의 표본평균 \n",
    "\n",
    "$\\bar{x}_N = \\dfrac{1}{N}(x_1+\\cdots+x_N)$도 마찬가지로 예측할 수 없는 확률변수이다. 이 확률 변수를 $\\bar{X}_N$이라고 하자."
   ]
  },
  {
   "cell_type": "markdown",
   "metadata": {},
   "source": [
    "이 표본 평균의 평균이 0, 분산이 1이 되도록 다음처럼 정규화를 한다.\n",
    "\n",
    "#### $\\dfrac{\\bar{x}_N - \\mu}{\\dfrac{\\sigma}{\\sqrt{N}}}$"
   ]
  },
  {
   "cell_type": "markdown",
   "metadata": {},
   "source": [
    "중심 극한 정리에 따르면 정규화된 표본평균의 분포는  $N$ 이 증가할 수록 표준 정규 분포에 수렴한다.\n",
    "\n"
   ]
  },
  {
   "cell_type": "markdown",
   "metadata": {},
   "source": [
    "$\\dfrac{\\bar{X}_N - \\mu}{\\dfrac{\\sigma}{\\sqrt{N}}} \\xrightarrow{d}\\ \\mathcal{N}(x;0,1)$"
   ]
  },
  {
   "cell_type": "code",
   "execution_count": null,
   "metadata": {},
   "outputs": [],
   "source": []
  }
 ],
 "metadata": {
  "kernelspec": {
   "display_name": "Python 3",
   "language": "python",
   "name": "python3"
  },
  "language_info": {
   "codemirror_mode": {
    "name": "ipython",
    "version": 3
   },
   "file_extension": ".py",
   "mimetype": "text/x-python",
   "name": "python",
   "nbconvert_exporter": "python",
   "pygments_lexer": "ipython3",
   "version": "3.6.4"
  }
 },
 "nbformat": 4,
 "nbformat_minor": 2
}
