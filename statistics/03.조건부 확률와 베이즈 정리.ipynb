{
 "cells": [
  {
   "cell_type": "markdown",
   "metadata": {},
   "source": [
    "출처 : https://datascienceschool.net/view-notebook/f68d16df9ea448689ae66dc2140fe673/"
   ]
  },
  {
   "cell_type": "markdown",
   "metadata": {},
   "source": [
    "# **조건부 확률**"
   ]
  },
  {
   "cell_type": "markdown",
   "metadata": {},
   "source": [
    "만약 두 사건이 독립 사건이라면 다음의 식이 성립한다.\n",
    "\n",
    "#### $ P(E \\cap F) = P(E)P(F) $"
   ]
  },
  {
   "cell_type": "markdown",
   "metadata": {},
   "source": [
    "두 사건이 반드시 독립사건이라는 보장이 없고, 사건 F의 확률이 0이 아닌 경우, 사건 E가 발생할 조건부 확률을 다음과 같이 정의할 수 있다.\n",
    "\n",
    "#### $P(E,F) = P(E  |  F) * P(F) $\n",
    "\n",
    " \n",
    "\n",
    "따라서, 사건 E와 F가 독립 사건이라면\n",
    "\n",
    "\n",
    "#### $P(E|F) = P(E)$\n",
    "\n",
    " \n",
    "\n",
    "한 가족에 있는 두 아이들의 성별을 맞추는 예시\n",
    "\n",
    "조건 1. 각 아이가 딸이거나 아들일 확률은 동일하다.\n",
    "\n",
    "조건 2. 둘째의 성별은 첫째의 성별과 독립이다.\n",
    "\n",
    "\n",
    " \n",
    "\n",
    "**첫째가 딸인 경우(사건 G), 두 아이가 모두 딸(사건 B)일 확률은 어떻게 될까?**\n",
    "\n",
    "\n",
    "사건 B(두 아이가 모두 딸인 경우)와 사건 G(첫째 아이가 딸인 경우)가 동시에 발생할 확률은 어차피 사건 B가 발생할 확률과 같다.\n",
    "\n",
    "왜냐하면, 사건 B가 발생하면 자연스럽게 사건 G도 발생하기 때문.\n",
    "\n",
    "\n",
    "#### $P(B|G) = P(B,G) / P(G)  = P(B) / P(G) = 1/2   $ \n",
    "\n",
    "  \n",
    "\n",
    "딸이 최소 한 명인 경우(사건 L), 두 아이가 모두 딸일 확률은?\n",
    "\n",
    "\n",
    "#### $P(B|L) = P(B,L) / B(L) = P(B) / P(L) = 1/3 $\n",
    "\n",
    "만약 딸이 최소 한명이라면, 딸 한명과 아들 한 명일 확률이 두 명이 모두 딸일 확률보다 2배나 높다.\n",
    "\n",
    "<br>\n",
    "\n"
   ]
  },
  {
   "cell_type": "markdown",
   "metadata": {},
   "source": [
    "# **베이즈 정리**\n",
    "\n",
    "### **$P(A|B) = \\dfrac{P(B|A)P(A)}{P(B)}$**"
   ]
  },
  {
   "cell_type": "markdown",
   "metadata": {},
   "source": [
    "<br>\n",
    "\n",
    "--- \n",
    "## **베이즈 정리의 확장 1**\n",
    "\n",
    "만약 사건  Ai 가 다음의 조건을 만족하는 경우,\n",
    "\n",
    "서로 교집합이 없고\n",
    "\n",
    "#### $A_i \\cap A_j = \\emptyset$\n",
    " \n",
    "모두 합쳤을 때 (합집합) 전체 표본 공간이면\n",
    "\n",
    "#### $A_1 \\cup A_2 \\cup \\cdots = \\Omega$\n",
    " \n",
    "전체 확률의 법칙을 이용하여 다음과 같이 베이즈 정리를 확장할 수 있다.\n",
    "\n",
    "### $P(A_1|B) = \\dfrac{P(B|A_1)P(A_1)}{P(B)} = \\dfrac{P(B|A_1)P(A_1)}{\\sum_i P(A_i, B)}= \\dfrac{P(B|A_1)P(A_1)}{\\sum_i P(B|A_i)P(A_i)}$\n",
    " \n",
    "\n",
    "<br>\n",
    "\n",
    "#### $ A_1=A ,  A_2=A^C $ 인 경우에는 다음과 같다.\n",
    "\n",
    "#### $ \\begin{eqnarray}\n",
    "P(A|B) \n",
    "&=& \\dfrac{P(B|A)P(A)}{P(B)} \n",
    "&=& \\dfrac{P(B|A)P(A)}{P(B,A) + P(B,A^C)} \n",
    "&=& \\dfrac{P(B|A)P(A)}{P(B|A)P(A) + P(B|A^C)P(A^C)}\n",
    "&=& \\dfrac{P(B|A)P(A)}{P(B|A)P(A) + P(B|A^C)(1 - P(A))} \n",
    "\\end{eqnarray}$"
   ]
  },
  {
   "cell_type": "markdown",
   "metadata": {},
   "source": [
    "---\n",
    "\n",
    "## **베이즈 정리의 확장 2**\n",
    "\n",
    "베이즈 정리는 사건  A 의 확률이 사건  B 에 의해 갱신(update)된 확률을 계산한다. \n",
    "\n",
    "그런데 만약 이 상태에서 또 추가적인 사건  C 가 발생했다면 베이즈 정리는 다음과 같이 쓸 수 있다.\n",
    "\n",
    "#### $ P(A|B,C) = \\dfrac{P(C|A,B)P(A|B)}{P(B|C)} $\n",
    "\n",
    "위 식에서  $P(A|B,C)$ 는  B 와  C 가 조건인  A 의 확률이다. 즉 $ P(A|(B∩C))$ 를 뜻한다.\n",
    "\n",
    "이 공식을 사건  A 와  C  만 있는 경우와 비교해 보면 위 공식을 쉽게 외울 수 있다.\n",
    "\n",
    "### $P(A|C)={P(C|A)P(A) \\over P(C)}$\n",
    "\n",
    "<br> \n",
    "(증명)\n",
    "\n",
    "#### $P(A,B,C) = P(A|B,C)P(B,C) = P(A|B,C)P(C|B)P(B)$\n",
    "#### $P(A,B,C)=P(C|A,B)P(A,B)=P(C|A,B)P(A|B)P(B)$\n",
    "#### $P(A|B,C)P(C|B)P(B)=P(C|A,B)P(A|B)P(B)$\n",
    " \n",
    "### $P(A|B,C)= {P(C|A,B)P(A|B) \\over P(C|B)}$"
   ]
  }
 ],
 "metadata": {
  "kernelspec": {
   "display_name": "Python 3",
   "language": "python",
   "name": "python3"
  },
  "language_info": {
   "codemirror_mode": {
    "name": "ipython",
    "version": 3
   },
   "file_extension": ".py",
   "mimetype": "text/x-python",
   "name": "python",
   "nbconvert_exporter": "python",
   "pygments_lexer": "ipython3",
   "version": "3.6.4"
  }
 },
 "nbformat": 4,
 "nbformat_minor": 2
}
