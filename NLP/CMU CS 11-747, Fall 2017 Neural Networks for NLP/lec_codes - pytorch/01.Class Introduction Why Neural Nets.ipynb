{
 "cells": [
  {
   "cell_type": "code",
   "execution_count": 1,
   "metadata": {},
   "outputs": [],
   "source": [
    "import dynet as dy"
   ]
  },
  {
   "cell_type": "code",
   "execution_count": 3,
   "metadata": {},
   "outputs": [
    {
     "data": {
      "text/plain": [
       "<_dynet.ComputationGraph at 0x7feaf8490090>"
      ]
     },
     "execution_count": 3,
     "metadata": {},
     "output_type": "execute_result"
    }
   ],
   "source": [
    "dy.renew_cg() # create a new computaton graph"
   ]
  },
  {
   "cell_type": "markdown",
   "metadata": {},
   "source": [
    "# Computation Graph and Expressions"
   ]
  },
  {
   "cell_type": "code",
   "execution_count": 15,
   "metadata": {},
   "outputs": [
    {
     "name": "stdout",
     "output_type": "stream",
     "text": [
      "expression 71/2\n",
      "v3 : [ 6.  8. 10. 12.]\n",
      "v4 : [12. 16. 20. 24.]\n",
      "v5 : [2. 3. 4. 5.]\n",
      "v6 : [ 1.  2.  3.  4.  5.  6.  7.  8.  6.  8. 10. 12.  2.  3.  4.  5.]\n"
     ]
    }
   ],
   "source": [
    "# v1 and v2 are expressions\n",
    "\n",
    "v1 = dy.inputVector([1,2,3,4])\n",
    "v2 = dy.inputVector([5,6,7,8])\n",
    "\n",
    "v3 = v1 + v2\n",
    "v4 = v3 * 2\n",
    "v5 = v1 + 1\n",
    "\n",
    "v6 = dy.concatenate([v1,v2,v3,v5])\n",
    "\n",
    "print(v6)\n",
    "\n",
    "print('v3 : %s'%v3.npvalue())\n",
    "print('v4 : %s'%v4.npvalue())\n",
    "print('v5 : %s'%v5.npvalue())\n",
    "print('v6 : %s'%v6.npvalue())"
   ]
  },
  {
   "cell_type": "markdown",
   "metadata": {},
   "source": [
    "# Model and Parameters"
   ]
  },
  {
   "cell_type": "code",
   "execution_count": 25,
   "metadata": {},
   "outputs": [
    {
     "name": "stdout",
     "output_type": "stream",
     "text": [
      "((20,), 1)\n"
     ]
    }
   ],
   "source": [
    "model = dy.Model()\n",
    "\n",
    "W = model.add_parameters((20,4))\n",
    "b = model.add_parameters(20)\n",
    "\n",
    "dy.renew_cg()\n",
    "\n",
    "x = dy.inputVector([1,2,3,4])\n",
    "\n",
    "# dy.parameter는 현재는 사라짐\n",
    "# model.add_parameter로 생성된 parameter는 자동으로 expression으로 등록됨\n",
    "#W = dy.parameter(pW) # convert params to expression (tensorflow의 placeholder와 유사한 개념으로 보임)\n",
    "#b = dy.parameter(pb) # and add to the graph\n",
    "\n",
    "y = W * x + b\n",
    "\n",
    "print(y.dim())"
   ]
  },
  {
   "cell_type": "markdown",
   "metadata": {},
   "source": [
    "# Trainers and Backdrop"
   ]
  },
  {
   "cell_type": "code",
   "execution_count": 32,
   "metadata": {},
   "outputs": [
    {
     "name": "stdout",
     "output_type": "stream",
     "text": [
      "[1.02759469]\n",
      "[0.65766054]\n",
      "[0.42090279]\n",
      "[0.26937777]\n",
      "[0.17240177]\n",
      "[0.11033714]\n",
      "[0.07061576]\n",
      "[0.04519409]\n",
      "[0.02892422]\n",
      "[0.0185115]\n"
     ]
    }
   ],
   "source": [
    "model = dy.Model()\n",
    "\n",
    "trainer = dy.SimpleSGDTrainer(model)\n",
    "\n",
    "p_v = model.add_parameters(10)\n",
    "\n",
    "for i in range(10):\n",
    "    dy.renew_cg()\n",
    "    \n",
    "    # our loss function!\n",
    "    v2 = dy.dot_product(p_v,p_v)\n",
    "    v2.forward()\n",
    "    \n",
    "    v2.backward() # compute gradients\n",
    "    \n",
    "    trainer.update()\n",
    "    print(v2.npvalue())"
   ]
  },
  {
   "cell_type": "code",
   "execution_count": 35,
   "metadata": {},
   "outputs": [
    {
     "name": "stdout",
     "output_type": "stream",
     "text": [
      "0 0\n",
      "1 1\n",
      "2 2\n",
      "3 3\n",
      "4 4\n",
      "5 5\n",
      "6 6\n",
      "7 7\n",
      "8 8\n",
      "9 9\n",
      "0 0\n",
      "1 1\n",
      "2 2\n",
      "3 3\n",
      "4 4\n"
     ]
    }
   ],
   "source": [
    "def gen1():\n",
    "    for x in range(10):\n",
    "        yield x\n",
    "    for x in range(5):\n",
    "        yield x\n",
    "\n",
    "\n",
    "def gen2():\n",
    "    yield from range(10)\n",
    "    yield from range(5)\n",
    "\n",
    "\n",
    "for a, b in zip(gen1(), gen2()):\n",
    "    print(a,b)\n",
    "    assert a == b"
   ]
  },
  {
   "cell_type": "code",
   "execution_count": 36,
   "metadata": {},
   "outputs": [],
   "source": [
    "from collections import defaultdict"
   ]
  },
  {
   "cell_type": "code",
   "execution_count": 45,
   "metadata": {},
   "outputs": [],
   "source": [
    "w2i = defaultdict(lambda : len(w2i))"
   ]
  },
  {
   "cell_type": "code",
   "execution_count": 43,
   "metadata": {},
   "outputs": [
    {
     "data": {
      "text/plain": [
       "0"
      ]
     },
     "execution_count": 43,
     "metadata": {},
     "output_type": "execute_result"
    }
   ],
   "source": [
    "w2i['<unk>']"
   ]
  },
  {
   "cell_type": "code",
   "execution_count": 46,
   "metadata": {},
   "outputs": [
    {
     "data": {
      "text/plain": [
       "defaultdict(<function __main__.<lambda>()>, {})"
      ]
     },
     "execution_count": 46,
     "metadata": {},
     "output_type": "execute_result"
    }
   ],
   "source": [
    "w2i"
   ]
  }
 ],
 "metadata": {
  "kernelspec": {
   "display_name": "fininsight_python_3.5",
   "language": "python",
   "name": "fininsight_python3.5"
  },
  "language_info": {
   "codemirror_mode": {
    "name": "ipython",
    "version": 3
   },
   "file_extension": ".py",
   "mimetype": "text/x-python",
   "name": "python",
   "nbconvert_exporter": "python",
   "pygments_lexer": "ipython3",
   "version": "3.5.5"
  }
 },
 "nbformat": 4,
 "nbformat_minor": 2
}
