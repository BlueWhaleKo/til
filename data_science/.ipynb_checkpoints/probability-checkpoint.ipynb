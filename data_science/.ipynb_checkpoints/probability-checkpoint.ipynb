{
 "cells": [
  {
   "cell_type": "markdown",
   "metadata": {},
   "source": [
    "# **조건부 확률**"
   ]
  },
  {
   "cell_type": "markdown",
   "metadata": {},
   "source": [
    "만약 두 사건이 독립 사건이라면 다음의 식이 성립한다.\n",
    "\n",
    "#### $P(E∩F) = P(E) * P(F)$"
   ]
  },
  {
   "cell_type": "markdown",
   "metadata": {},
   "source": [
    " "
   ]
  },
  {
   "cell_type": "markdown",
   "metadata": {},
   "source": [
    "두 사건이 반드시 독립사건이라는 보장이 없고, 사건 F의 확률이 0이 아닌 경우, 사건 E가 발생할 조건부 확률을 다음과 같이 정의할 수 있다.\n",
    "\n",
    "#### $P(E∩F) = P(E  |  F) * P(F) $"
   ]
  },
  {
   "cell_type": "markdown",
   "metadata": {},
   "source": [
    " "
   ]
  },
  {
   "cell_type": "markdown",
   "metadata": {},
   "source": [
    "따라서, 사건 E와 F가 독립 사건이라면\n",
    "\n",
    "\n",
    "#### $P(E|F) = P(E)$"
   ]
  },
  {
   "cell_type": "markdown",
   "metadata": {},
   "source": [
    " "
   ]
  },
  {
   "cell_type": "markdown",
   "metadata": {},
   "source": [
    "한 가족에 있는 두 아이들의 성별을 맞추는 예시\n",
    "\n",
    "조건 1. 각 아이가 딸이거나 아들일 확률은 동일하다.\n",
    "\n",
    "조건 2. 둘째의 성별은 첫째의 성별과 독립이다.\n"
   ]
  },
  {
   "cell_type": "markdown",
   "metadata": {},
   "source": [
    " "
   ]
  },
  {
   "cell_type": "markdown",
   "metadata": {},
   "source": [
    "**첫째가 딸인 경우(사건 G), 두 아이가 모두 딸(사건 B)일 확률은 어떻게 될까?**\n",
    "\n",
    "\n",
    "사건 B(두 아이가 모두 딸인 경우)와 사건 G(첫째 아이가 딸인 경우)가 동시에 발생할 확률은 어차피 사건 B가 발생할 확률과 같다.\n",
    "\n",
    "왜냐하면, 사건 B가 발생하면 자연스럽게 사건 G도 발생하기 때문.\n",
    "\n",
    "\n",
    "#### $P(B|G) = P(B∩G) / P(G)  = P(B) / P(G) = 1/2   $ "
   ]
  },
  {
   "cell_type": "markdown",
   "metadata": {},
   "source": [
    "  "
   ]
  },
  {
   "cell_type": "markdown",
   "metadata": {},
   "source": [
    "딸이 최소 한 명인 경우(사건 L), 두 아이가 모두 딸일 확률은?\n",
    "\n",
    "\n",
    "#### $P(B|L) = P(B∩L) / B(L) = P(B) / P(L) = 1/3 $"
   ]
  },
  {
   "cell_type": "markdown",
   "metadata": {},
   "source": [
    "만약 딸이 최소 한명이라면, 딸 한명과 아들 한 명일 확률이 두 명이 모두 딸일 확률보다 2배나 높다."
   ]
  },
  {
   "cell_type": "markdown",
   "metadata": {},
   "source": [
    "<br>\n",
    "\n",
    "# **베이즈 정리**"
   ]
  },
  {
   "cell_type": "markdown",
   "metadata": {},
   "source": [
    "만약 사건 F가 발생했다는 가정 하에 사건 E가 발생할 확률이 필요하다고 하자.\n",
    "\n",
    "하지만, 사건 E가 발생했다는 가정 하에 사건 F가 발생할 확률만 주어졌다면 어떻게 해결해야 할까\n",
    "\n",
    "조건부 확률의 성질을 사용하면 된다.\n",
    "\n",
    "\n",
    "### $P(E|F) = {P(E ∩ F) \\over P(F)} = {P(F|E)  P(E) \\over P(F)}$"
   ]
  },
  {
   "cell_type": "markdown",
   "metadata": {},
   "source": [
    "사건 F는 \n",
    "\n",
    "'사건 F와 사건 E가 모두 발생한 경우' + '사건 F가 발생했지만 사건 E는 발생하지 않은 경우'로 나눌 수 있다.\n",
    "\n",
    "만약 '사건 E가 발생하지 않는 경우'를 ¬E라고 표현한다면\n",
    "\n",
    "#### $P(F) = P(F ∩ E) + P(F ∩ ¬E)$"
   ]
  },
  {
   "cell_type": "markdown",
   "metadata": {},
   "source": [
    "  "
   ]
  },
  {
   "cell_type": "markdown",
   "metadata": {},
   "source": [
    "  "
   ]
  },
  {
   "cell_type": "markdown",
   "metadata": {},
   "source": [
    "  "
   ]
  },
  {
   "cell_type": "markdown",
   "metadata": {},
   "source": [
    "예를 들어, 10,000명 중에 1명이 걸리는 질병이 있다고 하자.\n",
    "\n",
    "이때 질병이 있는 경우 '양성', 질병이 없는 경우를 '음성'이라고 판단하는 검사가 99%의 경우에 대해 정확한 판단을 내린다고 해보자.\n",
    "\n",
    "\n",
    "그렇다면 양성 판정ㅇ르 받았다는 것은 무엇을 의미하는 것일까?\n",
    "\n",
    "사건 T는 양성 판정을 나타내고 사건 D는 질병에 걸렸다는 것을 나타낸다고 해보자.\n",
    "\n",
    "### **양성 판정인 경우, 실제로 병에 걸렸을 확률을 베이즈 정리를 사용해 풀어 보면 다음과 같다.**\n",
    "\n",
    "## $P(D|T) = {P(T|D)P(D) \\over P(T ∩ D) + P(T ∩ ¬D)}$\n",
    "=\n",
    "## $P(D|T) = {P(T|D)P(D) \\over P(T|D)P(D) + P(T|¬D)P(¬D)}$"
   ]
  },
  {
   "cell_type": "markdown",
   "metadata": {},
   "source": [
    "  "
   ]
  },
  {
   "cell_type": "markdown",
   "metadata": {},
   "source": [
    "**P(T|D) = 질병에 걸렸을 때, 양성 판정을 받을 확률 (검사기의 정확도) = 0.99**\n",
    "\n",
    "**P(D) = 질병이 발병할 확률 0.0001**\n",
    "\n",
    "**P(T ∩ ¬D)  = 질병이 없는 사람이 양성으로 판정받을 확률 = 0.01**\n",
    "\n",
    "**P(¬D)  = 질병이 발병하지 않을 확률 0.9999**"
   ]
  },
  {
   "cell_type": "markdown",
   "metadata": {},
   "source": [
    "<br>\n",
    "\n",
    "## 계산 해보면, P(D|T) = 0.98% 이다..\n",
    "\n",
    "양성 판정을 받아도, 실제로 질병에 걸렸을 확률은 1% 미만이다."
   ]
  },
  {
   "cell_type": "code",
   "execution_count": null,
   "metadata": {},
   "outputs": [],
   "source": []
  }
 ],
 "metadata": {
  "kernelspec": {
   "display_name": "Python 3",
   "language": "python",
   "name": "python3"
  },
  "language_info": {
   "codemirror_mode": {
    "name": "ipython",
    "version": 3
   },
   "file_extension": ".py",
   "mimetype": "text/x-python",
   "name": "python",
   "nbconvert_exporter": "python",
   "pygments_lexer": "ipython3",
   "version": "3.6.4"
  }
 },
 "nbformat": 4,
 "nbformat_minor": 2
}
