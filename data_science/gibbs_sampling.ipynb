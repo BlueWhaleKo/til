{
 "cells": [
  {
   "cell_type": "markdown",
   "metadata": {},
   "source": [
    "## Gibbs sampling"
   ]
  },
  {
   "cell_type": "code",
   "execution_count": 1,
   "metadata": {},
   "outputs": [],
   "source": [
    "import random"
   ]
  },
  {
   "cell_type": "code",
   "execution_count": 3,
   "metadata": {},
   "outputs": [],
   "source": [
    "def roll_a_die():\n",
    "    return random.choice([1,2,3,4,5,6])\n",
    "\n",
    "def direct_sample():\n",
    "    d1 = roll_a_die()\n",
    "    d2 = roll_a_die()\n",
    "    \n",
    "    return d1, d1 + d2\n"
   ]
  },
  {
   "cell_type": "code",
   "execution_count": 15,
   "metadata": {},
   "outputs": [],
   "source": [
    "def random_y_given_x(x):\n",
    "    return x + roll_a_die()\n",
    "\n",
    "\n",
    "def random_x_given_y(y):\n",
    "    if y <= 7:\n",
    "        return random.randrange(1,y)\n",
    "    \n",
    "    if y > 7:\n",
    "        return random.randrange(y-6, 7)"
   ]
  },
  {
   "cell_type": "markdown",
   "metadata": {},
   "source": [
    "깁스 샘플링은, 임의의 (유효한) x 또는 y값에서 출발해서 x에 대한 y의 조건부 확률과 y에 대한 x의 조건부 확률 사이를 오가며 반복적으로 값을 선택하는 방법이다.  \n",
    "\n",
    "이 과정을 여러 번 반복하여 얻은 x와 y는 결합확률분포(joint distribution)이다.\n"
   ]
  },
  {
   "cell_type": "code",
   "execution_count": 28,
   "metadata": {},
   "outputs": [],
   "source": [
    "def gibbs_sample(num_iters = 100):\n",
    "    \n",
    "    x , y = 1,2 #값이 무엇이든지 별로 상관이 없다.\n",
    "    \n",
    "    for _ in range(num_iters):\n",
    "        x = random_x_given_y(y)\n",
    "        y = random_y_given_x(x)\n",
    "    return x,y"
   ]
  },
  {
   "cell_type": "code",
   "execution_count": 31,
   "metadata": {},
   "outputs": [],
   "source": [
    "def compare_distributions(num_samples = 10000):\n",
    "    counts = defaultdict(lambda : [0,0])\n",
    "    \n",
    "    for _ in range(num_samples):\n",
    "        counts[gibbs_sample()][0] += 1\n",
    "        counts[direct_sample()][1] += 1\n",
    "    return counts"
   ]
  },
  {
   "cell_type": "code",
   "execution_count": 32,
   "metadata": {},
   "outputs": [
    {
     "data": {
      "text/plain": [
       "defaultdict(<function __main__.compare_distributions.<locals>.<lambda>>,\n",
       "            {(1, 2): [285, 271],\n",
       "             (1, 3): [273, 282],\n",
       "             (1, 4): [292, 285],\n",
       "             (1, 5): [259, 259],\n",
       "             (1, 6): [277, 275],\n",
       "             (1, 7): [275, 294],\n",
       "             (2, 3): [253, 300],\n",
       "             (2, 4): [301, 280],\n",
       "             (2, 5): [282, 279],\n",
       "             (2, 6): [257, 290],\n",
       "             (2, 7): [290, 289],\n",
       "             (2, 8): [233, 265],\n",
       "             (3, 4): [265, 258],\n",
       "             (3, 5): [245, 272],\n",
       "             (3, 6): [284, 279],\n",
       "             (3, 7): [285, 280],\n",
       "             (3, 8): [275, 290],\n",
       "             (3, 9): [290, 264],\n",
       "             (4, 5): [293, 268],\n",
       "             (4, 6): [261, 275],\n",
       "             (4, 7): [284, 277],\n",
       "             (4, 8): [249, 299],\n",
       "             (4, 9): [275, 277],\n",
       "             (4, 10): [267, 278],\n",
       "             (5, 6): [307, 276],\n",
       "             (5, 7): [261, 293],\n",
       "             (5, 8): [277, 272],\n",
       "             (5, 9): [271, 293],\n",
       "             (5, 10): [277, 276],\n",
       "             (5, 11): [311, 280],\n",
       "             (6, 7): [296, 258],\n",
       "             (6, 8): [292, 281],\n",
       "             (6, 9): [303, 304],\n",
       "             (6, 10): [285, 256],\n",
       "             (6, 11): [282, 260],\n",
       "             (6, 12): [288, 265]})"
      ]
     },
     "execution_count": 32,
     "metadata": {},
     "output_type": "execute_result"
    }
   ],
   "source": [
    "compare_distributions()"
   ]
  },
  {
   "cell_type": "code",
   "execution_count": null,
   "metadata": {},
   "outputs": [],
   "source": []
  }
 ],
 "metadata": {
  "kernelspec": {
   "display_name": "Python 3",
   "language": "python",
   "name": "python3"
  },
  "language_info": {
   "codemirror_mode": {
    "name": "ipython",
    "version": 3
   },
   "file_extension": ".py",
   "mimetype": "text/x-python",
   "name": "python",
   "nbconvert_exporter": "python",
   "pygments_lexer": "ipython3",
   "version": "3.6.4"
  }
 },
 "nbformat": 4,
 "nbformat_minor": 2
}
